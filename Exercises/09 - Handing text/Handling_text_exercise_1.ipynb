{
 "cells": [
  {
   "cell_type": "markdown",
   "metadata": {},
   "source": [
    "# Handling text exercise"
   ]
  },
  {
   "cell_type": "markdown",
   "metadata": {},
   "source": [
    "## Welcome! This exercise consists of:\n",
    "\n",
    "## Part 1: Hands on tutorial\n",
    "1. Implementing the natural language processing pipeline\n",
    "2. Solving four typical language processing tasks:\n",
    "   * Sentiment analysis\n",
    "   * Document classification\n",
    "   * Topic detection\n",
    "   * Semantic analysis\n",
    "\n",
    "\n",
    "### We will be working with four books in plain text:\n",
    "1. Moby-Dick, by Herman Melville\n",
    "2. Frankenstein; or, The Modern Prometheus, by Mary Shelley\n",
    "3. Pride and Prejudice, by Jane Austen\n",
    "4. Dracula, Bram Stoker\n",
    "\n",
    "#### To run this notebook, you need to install the following libraries:\n",
    "\n",
    "conda install nltk gensim spacy <br>\n",
    "pip install pyLDAvis  <br>\n",
    "pip install vaderSentiment  <br>\n",
    "pip install empath <br>\n",
    "python -m spacy download en  <br>\n",
    "python -m nltk.downloader punkt <br>\n",
    "python -m nltk.downloader all-corpora <br>\n",
    "\n",
    "## Part 2: Handling text comprehension questions\n",
    "- You can test your understanding of important NLP concepts. Solutions will be released next week.\n",
    "\n",
    "## Part 3: Coding exercise\n",
    "- When you are done, in \"Handling_text_exercise_2.ipynb\", you will find additional exercises you can work on independently."
   ]
  },
  {
   "cell_type": "markdown",
   "metadata": {},
   "source": [
    "## Part 1"
   ]
  },
  {
   "cell_type": "code",
   "execution_count": 1,
   "metadata": {},
   "outputs": [],
   "source": [
    "%load_ext autoreload\n",
    "%autoreload 2\n",
    "\n",
    "import warnings; warnings.simplefilter('ignore')\n",
    "import os, codecs, string, random\n",
    "import numpy as np\n",
    "from numpy.random import seed as random_seed\n",
    "from numpy.random import shuffle as random_shuffle\n",
    "import matplotlib.pyplot as plt\n",
    "%matplotlib inline  \n",
    "\n",
    "seed = 42\n",
    "random.seed(seed)\n",
    "np.random.seed(seed)\n",
    "\n",
    "#NLP libraries\n",
    "import spacy, nltk, gensim, sklearn\n",
    "#import pyLDAvis.gensim\n",
    "import pyLDAvis.gensim_models\n",
    "\n",
    "#Vader\n",
    "import vaderSentiment\n",
    "from vaderSentiment.vaderSentiment import SentimentIntensityAnalyzer\n",
    "\n",
    "#Scikit imports\n",
    "from sklearn.feature_extraction.text import CountVectorizer\n",
    "from sklearn.model_selection import train_test_split\n",
    "from sklearn.model_selection import cross_val_score\n",
    "from sklearn.linear_model import LogisticRegression\n",
    "from sklearn import preprocessing\n",
    "from sklearn.preprocessing import StandardScaler\n",
    "from sklearn.utils import shuffle\n",
    "\n",
    "#The data\n",
    "corpus_root = 'books/'"
   ]
  },
  {
   "cell_type": "markdown",
   "metadata": {},
   "source": [
    "#### In this tutorial we will be working with text in English. The same principles apply, but the methods cannot be applied directly to the text in unknown or other languages. We will be working mainly with the Spacy library."
   ]
  },
  {
   "cell_type": "markdown",
   "metadata": {},
   "source": [
    "Initialize the Spacy analyzer in English"
   ]
  },
  {
   "cell_type": "code",
   "execution_count": 2,
   "metadata": {},
   "outputs": [
    {
     "name": "stdout",
     "output_type": "stream",
     "text": [
      "/opt/anaconda3/envs/ada2/bin/python3\n"
     ]
    }
   ],
   "source": [
    "!which python3"
   ]
  },
  {
   "cell_type": "code",
   "execution_count": 3,
   "metadata": {},
   "outputs": [],
   "source": [
    "nlp = spacy.load('en_core_web_sm')"
   ]
  },
  {
   "cell_type": "markdown",
   "metadata": {},
   "source": [
    "Load the books"
   ]
  },
  {
   "cell_type": "code",
   "execution_count": 4,
   "metadata": {},
   "outputs": [
    {
     "name": "stdout",
     "output_type": "stream",
     "text": [
      "Moby_Dick.txt\n",
      "Frankenstein.txt\n",
      "DRACULA.txt\n",
      "PRIDE_AND_PREJUDICE.txt\n"
     ]
    }
   ],
   "source": [
    "books = list()\n",
    "\n",
    "for book_file in os.listdir(corpus_root):\n",
    "    if \".txt\" in book_file:\n",
    "        print(book_file)\n",
    "        with codecs.open(os.path.join(corpus_root,book_file),encoding=\"utf8\") as f:\n",
    "            books.append(f.read())"
   ]
  },
  {
   "cell_type": "markdown",
   "metadata": {},
   "source": [
    "Print the beginning of Pride and Prejudice"
   ]
  },
  {
   "cell_type": "code",
   "execution_count": 5,
   "metadata": {},
   "outputs": [
    {
     "name": "stdout",
     "output_type": "stream",
     "text": [
      "PRIDE AND PREJUDICE\n",
      "\n",
      "By Jane Austen\n",
      "\n",
      "\n",
      "\n",
      "Chapter 1\n",
      "\n",
      "\n",
      "It is a truth universally acknowledged, that a single man in possession\n",
      "of a good fortune, must be in want of a wife.\n",
      "\n",
      "However little known the feelings or views of such a man may be on his\n",
      "first entering a neighbourhood, this truth is so well fixed in the minds\n",
      "of the surrounding families, that he is considered the rightful property\n",
      "of some one or other of their daughters.\n",
      "\n",
      "“My dear Mr. Bennet,” said his lady to him one day, “have you heard that\n",
      "Netherfield Park is let at last?”\n",
      "\n",
      "Mr. Bennet replied that he had not.\n",
      "\n",
      "“But it is,” returned she;\n"
     ]
    }
   ],
   "source": [
    "print(books[3][0:600])"
   ]
  },
  {
   "cell_type": "markdown",
   "metadata": {},
   "source": [
    "#### Let's remove the new lines"
   ]
  },
  {
   "cell_type": "code",
   "execution_count": 6,
   "metadata": {},
   "outputs": [],
   "source": [
    "books = [\" \".join(b.split()) for b in books]"
   ]
  },
  {
   "cell_type": "code",
   "execution_count": 7,
   "metadata": {},
   "outputs": [
    {
     "name": "stdout",
     "output_type": "stream",
     "text": [
      "PRIDE AND PREJUDICE By Jane Austen Chapter 1 It is a truth universally acknowledged, that a single man in possession of a good fortune, must be in want of a wife. However little known the feelings or views of such a man may be on his first entering a neighbourhood, this truth is so well fixed in the minds of the surrounding families, that he is considered the rightful property of some one or other of their daughters. “My dear Mr. Bennet,” said his lady to him one day, “have you heard that Netherfield Park is let at last?” Mr. Bennet replied that he had not. “But it is,” returned she; “for Mrs.\n"
     ]
    }
   ],
   "source": [
    "print(books[3][0:600])"
   ]
  },
  {
   "cell_type": "markdown",
   "metadata": {},
   "source": [
    "### Load Frankenstein"
   ]
  },
  {
   "cell_type": "code",
   "execution_count": 8,
   "metadata": {},
   "outputs": [],
   "source": [
    "#index all books\n",
    "book = books[1]\n",
    "\n",
    "#put in raw text, get a Spacy object\n",
    "doc = nlp(book)"
   ]
  },
  {
   "cell_type": "markdown",
   "metadata": {},
   "source": [
    "## Let's create our own NLP pipeline with Spacy!"
   ]
  },
  {
   "cell_type": "markdown",
   "metadata": {},
   "source": [
    "### Step 1: Sentence splitting\n",
    "\n",
    "#### May sound trivial, but it's not! (e.g., U.K. or Yahoo!) Spacy uses a statistical model to generate accurate predictions. This works well out of the box for general-purpose text or web text. For social media use dedicated libraries."
   ]
  },
  {
   "cell_type": "code",
   "execution_count": 9,
   "metadata": {},
   "outputs": [
    {
     "name": "stdout",
     "output_type": "stream",
     "text": [
      "Sentence 1: Frankenstein, or the Modern Prometheus by Mary Wollstonecraft (Godwin) Shelley Letter 1 St. Petersburgh, Dec. 11th, 17-- TO Mrs. Saville, England You will rejoice to hear that no disaster has accompanied the commencement of an enterprise which you have regarded with such evil forebodings. \n",
      "\n",
      "Sentence 2: I arrived here yesterday, and my first task is to assure my dear sister of my welfare and increasing confidence in the success of my undertaking. \n",
      "\n",
      "Sentence 3: I am already far north of London, and as I walk in the streets of Petersburgh, I feel a cold northern breeze play upon my cheeks, which braces my nerves and fills me with delight. \n",
      "\n"
     ]
    }
   ],
   "source": [
    "sentences = [sent for sent in doc.sents]\n",
    "print('Sentence 1:',sentences[0],'\\n')\n",
    "print('Sentence 2:',sentences[1],'\\n')\n",
    "print('Sentence 3:',sentences[2],'\\n')"
   ]
  },
  {
   "cell_type": "markdown",
   "metadata": {},
   "source": [
    "### Step 2: Tokenization\n",
    "\n",
    "#### The task of splitting a text into meaningful segments called tokens. We segment the sentence into words, punctuation, etc. This is done by first splitting on whitespace characters and them applying rules specific to each language. For example, \"don't\" does not contain whitespace, but should be split into two tokens, \"do\" and \"n't\", while \"U.K.\" should always remain one token and \"but,\" shouldn't."
   ]
  },
  {
   "cell_type": "markdown",
   "metadata": {},
   "source": [
    "### We will analyze the methods on an example sentence first"
   ]
  },
  {
   "cell_type": "code",
   "execution_count": 10,
   "metadata": {},
   "outputs": [
    {
     "name": "stdout",
     "output_type": "stream",
     "text": [
      "I am already far north of London, and as I walk in the streets of Petersburgh, I feel a cold northern breeze play upon my cheeks, which braces my nerves and fills me with delight. \n",
      "\n",
      "['I', 'am', 'already', 'far', 'north', 'of', 'London', ',', 'and', 'as', 'I', 'walk', 'in', 'the', 'streets', 'of', 'Petersburgh', ',', 'I', 'feel', 'a', 'cold', 'northern', 'breeze', 'play', 'upon', 'my', 'cheeks', ',', 'which', 'braces', 'my', 'nerves', 'and', 'fills', 'me', 'with', 'delight', '.']\n"
     ]
    }
   ],
   "source": [
    "example = 'I am already far north of London, and as I walk in the streets of Petersburgh, I feel a cold northern breeze play upon my cheeks, which braces my nerves and fills me with delight.'\n",
    "\n",
    "doc = nlp(example)\n",
    "\n",
    "#strings are encoded to hashes\n",
    "tokens = [token.text for token in doc]\n",
    "\n",
    "print(example,'\\n')\n",
    "print(tokens)"
   ]
  },
  {
   "cell_type": "markdown",
   "metadata": {},
   "source": [
    "### Step 3: Part of speech tagging\n",
    "\n",
    "#### The model makes a prediction of which tag or label most likely applies in this context. For example, a word following \"the\" in English is most likely a noun."
   ]
  },
  {
   "cell_type": "code",
   "execution_count": 11,
   "metadata": {},
   "outputs": [
    {
     "name": "stdout",
     "output_type": "stream",
     "text": [
      "I am already far north of London, and as I walk in the streets of Petersburgh, I feel a cold northern breeze play upon my cheeks, which braces my nerves and fills me with delight. \n",
      "\n",
      "[('I', 'PRON'), ('am', 'AUX'), ('already', 'ADV'), ('far', 'ADV'), ('north', 'ADV'), ('of', 'ADP'), ('London', 'PROPN'), (',', 'PUNCT'), ('and', 'CCONJ'), ('as', 'SCONJ'), ('I', 'PRON'), ('walk', 'VERB'), ('in', 'ADP'), ('the', 'DET'), ('streets', 'NOUN'), ('of', 'ADP'), ('Petersburgh', 'PROPN'), (',', 'PUNCT'), ('I', 'PRON'), ('feel', 'VERB'), ('a', 'DET'), ('cold', 'ADJ'), ('northern', 'ADJ'), ('breeze', 'NOUN'), ('play', 'NOUN'), ('upon', 'SCONJ'), ('my', 'PRON'), ('cheeks', 'NOUN'), (',', 'PUNCT'), ('which', 'PRON'), ('braces', 'VERB'), ('my', 'PRON'), ('nerves', 'NOUN'), ('and', 'CCONJ'), ('fills', 'VERB'), ('me', 'PRON'), ('with', 'ADP'), ('delight', 'NOUN'), ('.', 'PUNCT')]\n"
     ]
    }
   ],
   "source": [
    "pos_tagged = [(token.text, token.pos_) for token in doc]\n",
    "\n",
    "print(example,'\\n')\n",
    "print(pos_tagged)"
   ]
  },
  {
   "cell_type": "code",
   "execution_count": 12,
   "metadata": {},
   "outputs": [
    {
     "name": "stdout",
     "output_type": "stream",
     "text": [
      "coordinating conjunction\n",
      "adposition\n",
      "determiner\n"
     ]
    }
   ],
   "source": [
    "print(spacy.explain('CCONJ'))\n",
    "print(spacy.explain('ADP'))\n",
    "print(spacy.explain('DET'))"
   ]
  },
  {
   "cell_type": "markdown",
   "metadata": {},
   "source": [
    "### When unsure, see here for more details: http://universaldependencies.org/u/pos/all.html"
   ]
  },
  {
   "cell_type": "markdown",
   "metadata": {},
   "source": [
    "#### More detailed annotation:"
   ]
  },
  {
   "cell_type": "code",
   "execution_count": 13,
   "metadata": {},
   "outputs": [
    {
     "name": "stdout",
     "output_type": "stream",
     "text": [
      "[('I', 'PRP'), ('am', 'VBP'), ('already', 'RB'), ('far', 'RB'), ('north', 'RB'), ('of', 'IN'), ('London', 'NNP'), (',', ','), ('and', 'CC'), ('as', 'IN'), ('I', 'PRP'), ('walk', 'VBP'), ('in', 'IN'), ('the', 'DT'), ('streets', 'NNS'), ('of', 'IN'), ('Petersburgh', 'NNP'), (',', ','), ('I', 'PRP'), ('feel', 'VBP'), ('a', 'DT'), ('cold', 'JJ'), ('northern', 'JJ'), ('breeze', 'NN'), ('play', 'NN'), ('upon', 'IN'), ('my', 'PRP$'), ('cheeks', 'NNS'), (',', ','), ('which', 'WDT'), ('braces', 'VBZ'), ('my', 'PRP$'), ('nerves', 'NNS'), ('and', 'CC'), ('fills', 'VBZ'), ('me', 'PRP'), ('with', 'IN'), ('delight', 'NN'), ('.', '.')]\n"
     ]
    }
   ],
   "source": [
    "pos_tagged = [(token.text, token.tag_) for token in doc]\n",
    "\n",
    "print(pos_tagged)"
   ]
  },
  {
   "cell_type": "code",
   "execution_count": 14,
   "metadata": {},
   "outputs": [
    {
     "name": "stdout",
     "output_type": "stream",
     "text": [
      "pronoun, personal\n",
      "verb, non-3rd person singular present\n"
     ]
    }
   ],
   "source": [
    "print(spacy.explain('PRP'))\n",
    "print(spacy.explain('VBP'))"
   ]
  },
  {
   "cell_type": "markdown",
   "metadata": {},
   "source": [
    "### Step 4: Named entity recognition\n",
    "\n",
    "#### For example, a person, a country, a product or a book title. Spacy can recognise various types of named entities in a document. This doesn't always work perfectly and might need some tuning later, depending on your use case.\n",
    "\n",
    "Built in entity types: <br>\n",
    "\n",
    "PERSON  People, including fictional.  <br>\n",
    "NORP\tNationalities or religious or political groups. <br>\n",
    "FAC\tBuildings, airports, highways, bridges, etc. <br>\n",
    "ORG\tCompanies, agencies, institutions, etc. <br>\n",
    "GPE\tCountries, cities, states. <br>\n",
    "LOC\tNon-GPE locations, mountain ranges, bodies of water. <br>\n",
    "PRODUCT\tObjects, vehicles, foods, etc. (Not services.) <br>\n",
    "EVENT\tNamed hurricanes, battles, wars, sports events, etc. <br>\n",
    "WORK_OF_ART\tTitles of books, songs, etc. <br>\n",
    "LAW\tNamed documents made into laws. <br>\n",
    "LANGUAGE\tAny named language. <br>\n",
    "DATE\tAbsolute or relative dates or periods. <br>\n",
    "TIME\tTimes smaller than a day. <br>\n",
    "PERCENT\tPercentage, including \"%\". <br>\n",
    "MONEY\tMonetary values, including unit. <br>\n",
    "QUANTITY\tMeasurements, as of weight or distance. <br>\n",
    "ORDINAL\t\"first\", \"second\", etc. <br>\n",
    "CARDINAL\tNumerals that do not fall under another type. <br>"
   ]
  },
  {
   "cell_type": "code",
   "execution_count": 15,
   "metadata": {},
   "outputs": [
    {
     "name": "stdout",
     "output_type": "stream",
     "text": [
      "I am already far north of London, and as I walk in the streets of Petersburgh, I feel a cold northern breeze play upon my cheeks, which braces my nerves and fills me with delight. \n",
      "\n",
      "London GPE\n",
      "Petersburgh PERSON\n"
     ]
    }
   ],
   "source": [
    "print(example,'\\n')\n",
    "for ent in doc.ents:\n",
    "    print(ent.text, ent.label_)"
   ]
  },
  {
   "cell_type": "markdown",
   "metadata": {},
   "source": [
    "### Step 5: Removing stop words"
   ]
  },
  {
   "cell_type": "markdown",
   "metadata": {},
   "source": [
    "Let's check out all the stopwords:"
   ]
  },
  {
   "cell_type": "code",
   "execution_count": 16,
   "metadata": {},
   "outputs": [
    {
     "name": "stdout",
     "output_type": "stream",
     "text": [
      "Number of stop words: 326\n",
      "First ten stop words: ['never', 'do', 'first', 'since', 'must', 'move', \"n't\", 'due', 'even', 'below']\n"
     ]
    }
   ],
   "source": [
    "spacy_stopwords = spacy.lang.en.stop_words.STOP_WORDS\n",
    "print('Number of stop words: %d' % len(spacy_stopwords))\n",
    "print('First ten stop words:',list(spacy_stopwords)[:10])"
   ]
  },
  {
   "cell_type": "markdown",
   "metadata": {},
   "source": [
    "Detecting stopwords in the example:"
   ]
  },
  {
   "cell_type": "code",
   "execution_count": 17,
   "metadata": {},
   "outputs": [
    {
     "name": "stdout",
     "output_type": "stream",
     "text": [
      "I am already far north of London, and as I walk in the streets of Petersburgh, I feel a cold northern breeze play upon my cheeks, which braces my nerves and fills me with delight. \n",
      "\n",
      "['I', 'am', 'already', 'of', 'and', 'as', 'I', 'in', 'the', 'of', 'I', 'a', 'upon', 'my', 'which', 'my', 'and', 'me', 'with']\n"
     ]
    }
   ],
   "source": [
    "print(example,'\\n')\n",
    "\n",
    "stop_words = [token.text for token in doc if token.is_stop]\n",
    "\n",
    "print(stop_words)"
   ]
  },
  {
   "cell_type": "markdown",
   "metadata": {},
   "source": [
    "#### Sometimes it's useful to define a custom list of stopwords. Other solutions: https://www.ranks.nl/stopwords \n"
   ]
  },
  {
   "cell_type": "markdown",
   "metadata": {},
   "source": [
    "### Step 6: Lemmatization\n",
    "\n",
    "#### A rule-based deterministic lemmatizer maps the surface form of a token to a lemma."
   ]
  },
  {
   "cell_type": "code",
   "execution_count": 18,
   "metadata": {},
   "outputs": [
    {
     "name": "stdout",
     "output_type": "stream",
     "text": [
      "I am already far north of London, and as I walk in the streets of Petersburgh, I feel a cold northern breeze play upon my cheeks, which braces my nerves and fills me with delight. \n",
      "\n",
      "am ---> be\n",
      "streets ---> street\n",
      "cheeks ---> cheek\n",
      "braces ---> brace\n",
      "nerves ---> nerve\n",
      "fills ---> fill\n",
      "me ---> I\n"
     ]
    }
   ],
   "source": [
    "print(example,'\\n')\n",
    "for token in doc:\n",
    "    if token.text != token.lemma_:\n",
    "        print(token.text,'--->',token.lemma_)"
   ]
  },
  {
   "cell_type": "markdown",
   "metadata": {},
   "source": [
    "### Step 7: Chunking (shallow parsing)\n",
    "\n",
    "#### Noun chunks are \"base noun phrases\" – flat phrases that have a noun as their head -- a noun plus the words describing the noun – for example, \"the lavish green grass\" or \"the world’s largest tech fund\". "
   ]
  },
  {
   "cell_type": "code",
   "execution_count": 19,
   "metadata": {},
   "outputs": [
    {
     "name": "stdout",
     "output_type": "stream",
     "text": [
      "I am already far north of London, and as I walk in the streets of Petersburgh, I feel a cold northern breeze play upon my cheeks, which braces my nerves and fills me with delight. \n",
      "\n",
      "I\n",
      "London\n",
      "I\n",
      "the streets\n",
      "Petersburgh\n",
      "I\n",
      "a cold northern breeze play\n",
      "my cheeks\n",
      "which\n",
      "my nerves\n",
      "me\n",
      "delight\n"
     ]
    }
   ],
   "source": [
    "print(example,'\\n')\n",
    "\n",
    "for chunk in doc.noun_chunks:\n",
    "    print(chunk.text)"
   ]
  },
  {
   "cell_type": "markdown",
   "metadata": {},
   "source": [
    "### Step 8: Dependancy parsing\n",
    "\n",
    "#### The terms head and child describe the words connected by an arc in the dependency tree. The type of syntactic relation that connects the child to the head can be obtain through .dep_."
   ]
  },
  {
   "cell_type": "code",
   "execution_count": 20,
   "metadata": {},
   "outputs": [
    {
     "name": "stdout",
     "output_type": "stream",
     "text": [
      "I am already far north of London, and as I walk in the streets of Petersburgh, I feel a cold northern breeze play upon my cheeks, which braces my nerves and fills me with delight. \n",
      "\n",
      "Token: I Head: am Children: []\n",
      "Token: am Head: am Children: [I, already, north, ,, and, feel]\n",
      "Token: already Head: am Children: []\n",
      "Token: far Head: north Children: []\n",
      "Token: north Head: am Children: [far, of]\n",
      "Token: of Head: north Children: [London]\n",
      "Token: London Head: of Children: []\n",
      "Token: , Head: am Children: []\n",
      "Token: and Head: am Children: []\n",
      "Token: as Head: walk Children: []\n",
      "Token: I Head: walk Children: []\n",
      "Token: walk Head: feel Children: [as, I, in]\n",
      "Token: in Head: walk Children: [streets]\n",
      "Token: the Head: streets Children: []\n",
      "Token: streets Head: in Children: [the, of]\n",
      "Token: of Head: streets Children: [Petersburgh]\n",
      "Token: Petersburgh Head: of Children: []\n",
      "Token: , Head: feel Children: []\n",
      "Token: I Head: feel Children: []\n",
      "Token: feel Head: am Children: [walk, ,, I, play, .]\n",
      "Token: a Head: play Children: []\n",
      "Token: cold Head: breeze Children: []\n",
      "Token: northern Head: breeze Children: []\n",
      "Token: breeze Head: play Children: [cold, northern]\n",
      "Token: play Head: feel Children: [a, breeze, upon]\n",
      "Token: upon Head: play Children: [cheeks]\n",
      "Token: my Head: cheeks Children: []\n",
      "Token: cheeks Head: upon Children: [my, ,, braces]\n",
      "Token: , Head: cheeks Children: []\n",
      "Token: which Head: braces Children: []\n",
      "Token: braces Head: cheeks Children: [which, nerves, and, fills]\n",
      "Token: my Head: nerves Children: []\n",
      "Token: nerves Head: braces Children: [my]\n",
      "Token: and Head: braces Children: []\n",
      "Token: fills Head: braces Children: [me, with]\n",
      "Token: me Head: fills Children: []\n",
      "Token: with Head: fills Children: [delight]\n",
      "Token: delight Head: with Children: []\n",
      "Token: . Head: feel Children: []\n"
     ]
    }
   ],
   "source": [
    "print(example,'\\n')\n",
    "\n",
    "for token in doc:\n",
    "    print('Token:',token.text,'Head:',token.head.text, 'Children:',[child for child in token.children])"
   ]
  },
  {
   "cell_type": "markdown",
   "metadata": {},
   "source": [
    "### Counting word occurences"
   ]
  },
  {
   "cell_type": "code",
   "execution_count": 21,
   "metadata": {},
   "outputs": [
    {
     "name": "stdout",
     "output_type": "stream",
     "text": [
      "I am already far north of London, and as I walk in the streets of Petersburgh, I feel a cold northern breeze play upon my cheeks, which braces my nerves and fills me with delight. \n",
      "\n",
      "[('I', 3), (',', 3), ('of', 2), ('and', 2), ('my', 2), ('am', 1), ('already', 1), ('far', 1), ('north', 1), ('London', 1), ('as', 1), ('walk', 1), ('in', 1), ('the', 1), ('streets', 1), ('Petersburgh', 1), ('feel', 1), ('a', 1), ('cold', 1), ('northern', 1), ('breeze', 1), ('play', 1), ('upon', 1), ('cheeks', 1), ('which', 1), ('braces', 1), ('nerves', 1), ('fills', 1), ('me', 1), ('with', 1), ('delight', 1), ('.', 1)]\n"
     ]
    }
   ],
   "source": [
    "from collections import Counter\n",
    "\n",
    "print(example,'\\n')\n",
    "words = [token.text for token in doc]\n",
    "\n",
    "# five most common tokens\n",
    "word_freq = Counter(words)\n",
    "common_words = word_freq.most_common()\n",
    "\n",
    "print(common_words)"
   ]
  },
  {
   "cell_type": "markdown",
   "metadata": {},
   "source": [
    "### Without stop words and punctuation"
   ]
  },
  {
   "cell_type": "code",
   "execution_count": 22,
   "metadata": {},
   "outputs": [
    {
     "name": "stdout",
     "output_type": "stream",
     "text": [
      "[('far', 1), ('north', 1), ('London', 1), ('walk', 1), ('streets', 1), ('Petersburgh', 1), ('feel', 1), ('cold', 1), ('northern', 1), ('breeze', 1), ('play', 1), ('cheeks', 1), ('braces', 1), ('nerves', 1), ('fills', 1), ('delight', 1)]\n"
     ]
    }
   ],
   "source": [
    "words = [token.text for token in doc if token.is_stop != True and token.is_punct != True]\n",
    "\n",
    "# five most common tokens\n",
    "word_freq = Counter(words)\n",
    "common_words = word_freq.most_common()\n",
    "\n",
    "print(common_words)"
   ]
  },
  {
   "cell_type": "markdown",
   "metadata": {},
   "source": [
    "## Putting all the components together"
   ]
  },
  {
   "cell_type": "markdown",
   "metadata": {},
   "source": [
    "### Under the hood: the pipeline [\"tokenizer\",\"tagger\", \"parser\", \"ner\"]."
   ]
  },
  {
   "cell_type": "markdown",
   "metadata": {},
   "source": [
    "#### The NLP pipeline with Spacy\n",
    "<img src=\"spacy.png\">"
   ]
  },
  {
   "cell_type": "code",
   "execution_count": 23,
   "metadata": {},
   "outputs": [],
   "source": [
    "nlp = spacy.load('en_core_web_sm')"
   ]
  },
  {
   "cell_type": "markdown",
   "metadata": {},
   "source": [
    "### If you don't need a particular component of the pipeline – for example, the tagger or the parser, you can disable loading it. This can sometimes make a big difference and improve loading speed. "
   ]
  },
  {
   "cell_type": "code",
   "execution_count": 24,
   "metadata": {},
   "outputs": [
    {
     "data": {
      "text/plain": [
       "('tagger', <spacy.pipeline.tagger.Tagger at 0x15673ef90>)"
      ]
     },
     "execution_count": 24,
     "metadata": {},
     "output_type": "execute_result"
    }
   ],
   "source": [
    "nlp.remove_pipe('parser')\n",
    "nlp.remove_pipe('tagger')"
   ]
  },
  {
   "cell_type": "markdown",
   "metadata": {},
   "source": [
    "# Task 1: Sentiment analysis"
   ]
  },
  {
   "cell_type": "markdown",
   "metadata": {},
   "source": [
    "### Initialize the analyzer. Typically used for data from social media (short sentences)."
   ]
  },
  {
   "cell_type": "code",
   "execution_count": 25,
   "metadata": {},
   "outputs": [],
   "source": [
    "analyzer = SentimentIntensityAnalyzer()\n",
    "vs = analyzer.polarity_scores(example)"
   ]
  },
  {
   "cell_type": "markdown",
   "metadata": {},
   "source": [
    "### The sentiment score consits of four values. Neutral, positive and negative sum to one. The final score is obtained by thresholding the compound value (e.g. +/-0.05)."
   ]
  },
  {
   "cell_type": "code",
   "execution_count": 26,
   "metadata": {},
   "outputs": [
    {
     "name": "stdout",
     "output_type": "stream",
     "text": [
      "I am already far north of London, and as I walk in the streets of Petersburgh, I feel a cold northern breeze play upon my cheeks, which braces my nerves and fills me with delight. \n",
      "\n",
      "Negative sentiment: 0.035\n",
      "Neutral sentiment: 0.806\n",
      "Positive sentiment: 0.159\n",
      "Compound sentiment: 0.7096\n"
     ]
    }
   ],
   "source": [
    "print(example, '\\n')\n",
    "print('Negative sentiment:',vs['neg'])\n",
    "print('Neutral sentiment:',vs['neu'])\n",
    "print('Positive sentiment:',vs['pos'])\n",
    "print('Compound sentiment:',vs['compound'])"
   ]
  },
  {
   "cell_type": "markdown",
   "metadata": {},
   "source": [
    "### We can now observe the distributions of sentiment across all sentences in the book Pride and Prejudice:"
   ]
  },
  {
   "cell_type": "code",
   "execution_count": 27,
   "metadata": {},
   "outputs": [],
   "source": [
    "nlp = spacy.load('en_core_web_sm')\n",
    "doc = nlp(books[3])"
   ]
  },
  {
   "cell_type": "code",
   "execution_count": 28,
   "metadata": {},
   "outputs": [
    {
     "data": {
      "text/plain": [
       "Text(0, 0.5, 'Number of sentences')"
      ]
     },
     "execution_count": 28,
     "metadata": {},
     "output_type": "execute_result"
    },
    {
     "data": {
      "image/png": "[encoded data removed]",
      "text/plain": [
       "<Figure size 640x480 with 1 Axes>"
      ]
     },
     "metadata": {},
     "output_type": "display_data"
    }
   ],
   "source": [
    "positive_sent = []\n",
    "#iterate through the sentences, get polarity scores, choose a value\n",
    "[positive_sent.append(analyzer.polarity_scores(sent.text)['pos']) for sent in doc.sents]\n",
    "plt.hist(positive_sent,bins=15)\n",
    "plt.xlim([0,1])\n",
    "plt.ylim([0,8000])\n",
    "plt.xlabel('Positive sentiment')\n",
    "plt.ylabel('Number of sentences')"
   ]
  },
  {
   "cell_type": "code",
   "execution_count": 29,
   "metadata": {},
   "outputs": [
    {
     "data": {
      "text/plain": [
       "Text(0, 0.5, 'Number of sentences')"
      ]
     },
     "execution_count": 29,
     "metadata": {},
     "output_type": "execute_result"
    },
    {
     "data": {
      "image/png": "[encoded data removed]",
      "text/plain": [
       "<Figure size 640x480 with 1 Axes>"
      ]
     },
     "metadata": {},
     "output_type": "display_data"
    }
   ],
   "source": [
    "negative_sent = []\n",
    "[negative_sent.append(analyzer.polarity_scores(sent.text)['neg']) for sent in doc.sents]\n",
    "plt.hist(negative_sent,bins=15)\n",
    "plt.xlim([0,1])\n",
    "plt.ylim([0,8000])\n",
    "plt.xlabel('Negative sentiment')\n",
    "plt.ylabel('Number of sentences')"
   ]
  },
  {
   "cell_type": "code",
   "execution_count": 30,
   "metadata": {},
   "outputs": [
    {
     "data": {
      "text/plain": [
       "Text(0, 0.5, 'Number of sentences')"
      ]
     },
     "execution_count": 30,
     "metadata": {},
     "output_type": "execute_result"
    },
    {
     "data": {
      "image/png": "[encoded data removed]",
      "text/plain": [
       "<Figure size 640x480 with 1 Axes>"
      ]
     },
     "metadata": {},
     "output_type": "display_data"
    }
   ],
   "source": [
    "total_sent = []\n",
    "[total_sent.append(analyzer.polarity_scores(sent.text)['compound']) for sent in doc.sents]\n",
    "plt.hist(total_sent,bins = 15)\n",
    "plt.xlim([-1,1])\n",
    "plt.ylim([0,8000])\n",
    "plt.xlabel('Compound sentiment')\n",
    "plt.ylabel('Number of sentences')"
   ]
  },
  {
   "cell_type": "code",
   "execution_count": 31,
   "metadata": {},
   "outputs": [
    {
     "name": "stdout",
     "output_type": "stream",
     "text": [
      "Number of positive sentences: 2730\n",
      "Number of negative sentences: 1342\n",
      "Number of neutral sentences: 1875\n"
     ]
    }
   ],
   "source": [
    "sents = [analyzer.polarity_scores(sent.text)['compound'] for sent in doc.sents]\n",
    "print('Number of positive sentences:',sum(np.array(sents)>=0.05))\n",
    "print('Number of negative sentences:',sum(np.array(sents)<=-0.05))\n",
    "print('Number of neutral sentences:',sum(np.abs(np.array(sents))<0.05))"
   ]
  },
  {
   "cell_type": "markdown",
   "metadata": {},
   "source": [
    "#### Most of the sentences are quite neutral in sentiment. This is not the case when working with data from other sources (e.g., in social media opinions are strong and polarized (bimodal distribution))."
   ]
  },
  {
   "cell_type": "markdown",
   "metadata": {},
   "source": [
    "# Task 2: Document classification: Can we detect paragraphs from Frankenstein?"
   ]
  },
  {
   "cell_type": "code",
   "execution_count": 32,
   "metadata": {},
   "outputs": [],
   "source": [
    "# Let's load our corpus via NLTK this time\n",
    "from nltk.corpus import PlaintextCorpusReader\n",
    "from nltk.tokenize import PunktSentenceTokenizer"
   ]
  },
  {
   "cell_type": "code",
   "execution_count": 33,
   "metadata": {},
   "outputs": [
    {
     "name": "stdout",
     "output_type": "stream",
     "text": [
      "['DRACULA.txt', 'Frankenstein.txt', 'Moby_Dick.txt', 'PRIDE_AND_PREJUDICE.txt']\n"
     ]
    }
   ],
   "source": [
    "our_books = PlaintextCorpusReader(corpus_root, '.*.txt')\n",
    "print(our_books.fileids())"
   ]
  },
  {
   "cell_type": "code",
   "execution_count": 34,
   "metadata": {},
   "outputs": [
    {
     "name": "stderr",
     "output_type": "stream",
     "text": [
      "[nltk_data] Downloading package punkt to /Users/alexandra/nltk_data...\n",
      "[nltk_data]   Package punkt is already up-to-date!\n"
     ]
    },
    {
     "data": {
      "text/plain": [
       "True"
      ]
     },
     "execution_count": 34,
     "metadata": {},
     "output_type": "execute_result"
    }
   ],
   "source": [
    "import nltk\n",
    "nltk.download('punkt')"
   ]
  },
  {
   "cell_type": "markdown",
   "metadata": {},
   "source": [
    "### We will segment the books into equally long chunks"
   ]
  },
  {
   "cell_type": "code",
   "execution_count": 42,
   "metadata": {},
   "outputs": [
    {
     "name": "stdout",
     "output_type": "stream",
     "text": [
      "DRACULA.txt :\n",
      "Number of sentences: 9303\n",
      "Number of chunks: 187 \n",
      "\n",
      "Frankenstein.txt :\n",
      "Number of sentences: 3378\n",
      "Number of chunks: 68 \n",
      "\n",
      "Moby_Dick.txt :\n",
      "Number of sentences: 9609\n",
      "Number of chunks: 193 \n",
      "\n",
      "PRIDE_AND_PREJUDICE.txt :\n",
      "Number of sentences: 6055\n",
      "Number of chunks: 122 \n",
      "\n"
     ]
    }
   ],
   "source": [
    "def get_chunks(l, n):\n",
    "    \"\"\"Yield successive n-sized chunks from l.\"\"\"\n",
    "    for i in range(0, len(l), n):\n",
    "        yield l[i:i + n]\n",
    "\n",
    "\n",
    "# Get the data\n",
    "book_id = {f:n for n,f in enumerate(our_books.fileids())} # dictionary of books\n",
    "\n",
    "chunks = list()\n",
    "chunk_class = list() # this list contains the original book of the chunk, for evaluation\n",
    "\n",
    "limit = 500 # how many chunks total\n",
    "size = 50 # how many sentences per chunk/page\n",
    "\n",
    "for f in our_books.fileids():\n",
    "    sentences = our_books.sents(f)\n",
    "    print(f,\":\")\n",
    "    print('Number of sentences:',len(sentences))\n",
    "    \n",
    "    # create chunks\n",
    "    chunks_of_sents = [x for x in get_chunks(sentences,size)] # this is a list of lists of sentences, which are a list of tokens\n",
    "    chs = list()\n",
    "    \n",
    "    # regroup so to have a list of chunks which are strings\n",
    "    for c in chunks_of_sents:\n",
    "        grouped_chunk = list()\n",
    "        for s in c:\n",
    "            grouped_chunk.extend(s)\n",
    "        chs.append(\" \".join(grouped_chunk))\n",
    "    print(\"Number of chunks:\",len(chs),'\\n')\n",
    "    \n",
    "    # filter to the limit, to have the same number of chunks per book\n",
    "    chunks.extend(chs[:limit])\n",
    "    chunk_class.extend([book_id[f] for _ in range(len(chs[:limit]))])"
   ]
  },
  {
   "cell_type": "markdown",
   "metadata": {},
   "source": [
    "### Representing the chunks with bag-of-words"
   ]
  },
  {
   "cell_type": "code",
   "execution_count": 43,
   "metadata": {},
   "outputs": [
    {
     "name": "stdout",
     "output_type": "stream",
     "text": [
      "Number of samples: 570\n",
      "Number of features: 23116\n"
     ]
    }
   ],
   "source": [
    "vectorizer = CountVectorizer()\n",
    "\n",
    "#initialize and specify minumum number of occurences to avoid untractable number of features\n",
    "#vectorizer = CountVectorizer(min_df = 2) if we want high frequency\n",
    "\n",
    "#create bag of words features\n",
    "X = vectorizer.fit_transform(chunks)\n",
    "\n",
    "print('Number of samples:',X.toarray().shape[0])\n",
    "print('Number of features:',X.toarray().shape[1])\n",
    "\n",
    "#mask and convert to int Frankenstein\n",
    "Y = np.array(chunk_class) == 1\n",
    "Y = Y.astype(int)  \n",
    "\n",
    "#shuffle the data\n",
    "X, Y = shuffle(X, Y, random_state=0)\n",
    "\n",
    "#split into training and test set\n",
    "X_train, X_test, Y_train, Y_test = train_test_split(X, Y, test_size=0.2, random_state=42)"
   ]
  },
  {
   "cell_type": "markdown",
   "metadata": {},
   "source": [
    "### Let's fit the regularized logistic regression. We will crossvalidate the regularization parameter on the training set."
   ]
  },
  {
   "cell_type": "code",
   "execution_count": 44,
   "metadata": {},
   "outputs": [],
   "source": [
    "accs = []\n",
    "\n",
    "#the grid of regularization parameter \n",
    "grid = [0.01,0.1,1,10,100,1000,10000]\n",
    "\n",
    "for c in grid:\n",
    "    \n",
    "    #initialize the classifier\n",
    "    clf = LogisticRegression(random_state=0, solver='lbfgs',C = c)\n",
    "    \n",
    "    #crossvalidate\n",
    "    scores = cross_val_score(clf, X_train,Y_train, cv=10)\n",
    "    accs.append(np.mean(scores))"
   ]
  },
  {
   "cell_type": "code",
   "execution_count": 45,
   "metadata": {},
   "outputs": [
    {
     "data": {
      "text/plain": [
       "(0.986, 1.0)"
      ]
     },
     "execution_count": 45,
     "metadata": {},
     "output_type": "execute_result"
    },
    {
     "data": {
      "image/png": "[encoded data removed]",
      "text/plain": [
       "<Figure size 640x480 with 1 Axes>"
      ]
     },
     "metadata": {},
     "output_type": "display_data"
    }
   ],
   "source": [
    "plt.plot(accs)\n",
    "plt.xticks(range(len(grid)), grid)\n",
    "plt.xlabel('Regularization parameter \\n (Low - strong regularization, High - weak regularization)')\n",
    "plt.ylabel('Crossvalidation accuracy')\n",
    "plt.ylim([0.986,1])"
   ]
  },
  {
   "cell_type": "markdown",
   "metadata": {},
   "source": [
    "### Let's train again, on the entire training set, with the chosen regularization parameter. We will test on the test set"
   ]
  },
  {
   "cell_type": "code",
   "execution_count": 46,
   "metadata": {},
   "outputs": [
    {
     "name": "stdout",
     "output_type": "stream",
     "text": [
      "Accuracy: 0.9912280701754386\n"
     ]
    }
   ],
   "source": [
    "clf = LogisticRegression(random_state=0, solver='lbfgs',C = 10).fit(X_train,Y_train)\n",
    "\n",
    "#predict on the test set\n",
    "print('Accuracy:',clf.score(X_test,Y_test))"
   ]
  },
  {
   "cell_type": "markdown",
   "metadata": {},
   "source": [
    "### What features characterize Frankenstein? BOW are interpretable!"
   ]
  },
  {
   "cell_type": "code",
   "execution_count": 48,
   "metadata": {},
   "outputs": [
    {
     "name": "stdout",
     "output_type": "stream",
     "text": [
      "['ice' 'although' 'by' 'several' 'appeared' 'should' 'misery' 'our' 'who'\n",
      " 'had' 'of' 'poor' 'but' 'justine' 'my' 'this' 'father' 'and' 'yet'\n",
      " 'which']\n"
     ]
    }
   ],
   "source": [
    "coefs=clf.coef_[0]\n",
    "top_three = np.argpartition(coefs, -20)[-20:]\n",
    "\n",
    "print(np.array(vectorizer.get_feature_names_out())[top_three])"
   ]
  },
  {
   "cell_type": "markdown",
   "metadata": {},
   "source": [
    "### We can perfectly predict paragraphs from Frankenstein! We saw issues of high dimensionality when using bag of words (more features than samples) and how regularization helps."
   ]
  },
  {
   "cell_type": "markdown",
   "metadata": {},
   "source": [
    "### Alternative text representation: word emdeddings, pretrained on intergraded in Spacy (300-dimensional word vectors trained on Common Crawl with GloVe.) Depending on the application, might be suitable or not"
   ]
  },
  {
   "cell_type": "code",
   "execution_count": 49,
   "metadata": {},
   "outputs": [
    {
     "name": "stdout",
     "output_type": "stream",
     "text": [
      "I am already far north of London, and as I walk in the streets of Petersburgh, I feel a cold northern breeze play upon my cheeks, which braces my nerves and fills me with delight. \n",
      "\n",
      "Embedding representation: [0.16169655, -0.051652834, -0.17214076, -0.09500539, 0.099879555, -0.09646799, 0.32181397, -0.18310127, 0.306305, -0.113345124] ...\n"
     ]
    }
   ],
   "source": [
    "print(example,'\\n')\n",
    "print('Embedding representation:',list((nlp(example).vector)[0:10]),'...')"
   ]
  },
  {
   "cell_type": "markdown",
   "metadata": {},
   "source": [
    "# Task 3: Topic detection"
   ]
  },
  {
   "cell_type": "code",
   "execution_count": 50,
   "metadata": {},
   "outputs": [
    {
     "name": "stdout",
     "output_type": "stream",
     "text": [
      "DRACULA.txt\n",
      "Number of sentences: 9303\n",
      "Number of chunks: 187 \n",
      "\n",
      "Frankenstein.txt\n",
      "Number of sentences: 3378\n",
      "Number of chunks: 68 \n",
      "\n",
      "Moby_Dick.txt\n",
      "Number of sentences: 9609\n",
      "Number of chunks: 193 \n",
      "\n",
      "PRIDE_AND_PREJUDICE.txt\n",
      "Number of sentences: 6055\n",
      "Number of chunks: 122 \n",
      "\n"
     ]
    }
   ],
   "source": [
    "# Get the chunks again (into smaller chunks)\n",
    "book_id = {f:n for n,f in enumerate(our_books.fileids())} # dictionary of books\n",
    "chunks = list()\n",
    "chunk_class = list() # this list contains the original book of the chunk, for evaluation\n",
    "\n",
    "limit = 60 # how many chunks total\n",
    "size = 50 # how many sentences per chunk/page\n",
    "\n",
    "for f in our_books.fileids():\n",
    "    sentences = our_books.sents(f)\n",
    "    print(f)\n",
    "    print('Number of sentences:',len(sentences))\n",
    "    \n",
    "    # create chunks\n",
    "    chunks_of_sents = [x for x in get_chunks(sentences,size)] # this is a list of lists of sentences, which are a list of tokens\n",
    "    chs = list()\n",
    "    \n",
    "    # regroup so to have a list of chunks which are strings\n",
    "    for c in chunks_of_sents:\n",
    "        grouped_chunk = list()\n",
    "        for s in c:\n",
    "            grouped_chunk.extend(s)\n",
    "        chs.append(\" \".join(grouped_chunk))\n",
    "    print(\"Number of chunks:\",len(chs),'\\n')\n",
    "    \n",
    "    # filter to the limit, to have the same number of chunks per book\n",
    "    chunks.extend(chs[:limit])\n",
    "    chunk_class.extend([book_id[f] for _ in range(len(chs[:limit]))])"
   ]
  },
  {
   "cell_type": "code",
   "execution_count": 51,
   "metadata": {},
   "outputs": [],
   "source": [
    "STOPWORDS = spacy.lang.en.stop_words.STOP_WORDS\n",
    "\n",
    "processed_docs = list()\n",
    "for doc in nlp.pipe(chunks, n_process=5, batch_size=10):\n",
    "\n",
    "    # Process document using Spacy NLP pipeline.\n",
    "    ents = doc.ents  # Named entities\n",
    "\n",
    "    # Keep only words (no numbers, no punctuation).\n",
    "    # Lemmatize tokens, remove punctuation and remove stopwords.\n",
    "    doc = [token.lemma_ for token in doc if token.is_alpha and not token.is_stop]\n",
    "\n",
    "    # Remove common words from a stopword list and keep only words of length 3 or more.\n",
    "    doc = [token for token in doc if token not in STOPWORDS and len(token) > 2]\n",
    "\n",
    "    # Add named entities, but only if they are a compound of more than word.\n",
    "    doc.extend([str(entity) for entity in ents if len(entity) > 1])\n",
    "\n",
    "    processed_docs.append(doc)\n",
    "docs = processed_docs\n",
    "del processed_docs"
   ]
  },
  {
   "cell_type": "code",
   "execution_count": 52,
   "metadata": {},
   "outputs": [],
   "source": [
    "# Add bigrams too\n",
    "from gensim.models.phrases import Phrases\n",
    "\n",
    "# Add bigrams to docs (only ones that appear 15 times or more).\n",
    "bigram = Phrases(docs, min_count=15)\n",
    "\n",
    "for idx in range(len(docs)):\n",
    "    for token in bigram[docs[idx]]:\n",
    "        if '_' in token:\n",
    "            # Token is a bigram, add to document.\n",
    "            docs[idx].append(token)"
   ]
  },
  {
   "cell_type": "code",
   "execution_count": 53,
   "metadata": {},
   "outputs": [
    {
     "name": "stdout",
     "output_type": "stream",
     "text": [
      "Number of unique tokens: 3092\n",
      "Number of chunks: 240\n"
     ]
    }
   ],
   "source": [
    "# Create a dictionary representation of the documents, and filter out frequent and rare words.\n",
    "from gensim.corpora import Dictionary\n",
    "dictionary = Dictionary(docs)\n",
    "\n",
    "# Remove rare and common tokens.\n",
    "# Filter out words that occur too frequently or too rarely.\n",
    "max_freq = 0.5\n",
    "min_wordcount = 5\n",
    "dictionary.filter_extremes(no_below=min_wordcount, no_above=max_freq)\n",
    "\n",
    "# Bag-of-words representation of the documents.\n",
    "corpus = [dictionary.doc2bow(doc) for doc in docs]\n",
    "#MmCorpus.serialize(\"models/corpus.mm\", corpus)\n",
    "\n",
    "print('Number of unique tokens: %d' % len(dictionary))\n",
    "print('Number of chunks: %d' % len(corpus))"
   ]
  },
  {
   "cell_type": "code",
   "execution_count": 54,
   "metadata": {},
   "outputs": [],
   "source": [
    "# models\n",
    "from gensim.models import LdaMulticore\n",
    "params = {'passes': 10, 'random_state': seed}\n",
    "base_models = dict()\n",
    "model = LdaMulticore(corpus=corpus, num_topics=4, id2word=dictionary, workers=6,\n",
    "                passes=params['passes'], random_state=params['random_state'])"
   ]
  },
  {
   "cell_type": "code",
   "execution_count": 55,
   "metadata": {},
   "outputs": [
    {
     "data": {
      "text/plain": [
       "[(0,\n",
       "  '0.008*\"room\" + 0.007*\"door\" + 0.007*\"sleep\" + 0.006*\"Lucy\" + 0.006*\"old\"'),\n",
       " (1,\n",
       "  '0.016*\"Elizabeth\" + 0.011*\"Darcy\" + 0.010*\"Bingley\" + 0.009*\"Miss\" + 0.009*\"Mrs\"'),\n",
       " (2,\n",
       "  '0.020*\"whale\" + 0.012*\"ship\" + 0.010*\"sea\" + 0.008*\"Queequeg\" + 0.008*\"old\"'),\n",
       " (3,\n",
       "  '0.006*\"father\" + 0.005*\"life\" + 0.004*\"feeling\" + 0.004*\"mind\" + 0.004*\"appear\"')]"
      ]
     },
     "execution_count": 55,
     "metadata": {},
     "output_type": "execute_result"
    }
   ],
   "source": [
    "model.show_topics(num_words=5)"
   ]
  },
  {
   "cell_type": "code",
   "execution_count": 56,
   "metadata": {},
   "outputs": [
    {
     "data": {
      "text/plain": [
       "[('Elizabeth', 0.015765978),\n",
       " ('Darcy', 0.011224306),\n",
       " ('Bingley', 0.010058005),\n",
       " ('Miss', 0.009154571),\n",
       " ('Mrs', 0.008653875),\n",
       " ('Bennet', 0.008147534),\n",
       " ('sister', 0.007764632),\n",
       " ('Collins', 0.0071811024),\n",
       " ('Jane', 0.0069901333),\n",
       " ('young', 0.0058986885),\n",
       " ('lady', 0.0050209803),\n",
       " ('wish', 0.004936379),\n",
       " ('dear', 0.0047335536),\n",
       " ('room', 0.004442433),\n",
       " ('hope', 0.004374437),\n",
       " ('Lady', 0.0042954483),\n",
       " ('manner', 0.0041416152),\n",
       " ('mean', 0.0038576855),\n",
       " ('family', 0.0038517513),\n",
       " ('Catherine', 0.0038301535)]"
      ]
     },
     "execution_count": 56,
     "metadata": {},
     "output_type": "execute_result"
    }
   ],
   "source": [
    "model.show_topic(1,20)"
   ]
  },
  {
   "cell_type": "code",
   "execution_count": 57,
   "metadata": {},
   "outputs": [
    {
     "data": {
      "text/plain": [
       "[(0, 0.9972275)]"
      ]
     },
     "execution_count": 57,
     "metadata": {},
     "output_type": "execute_result"
    }
   ],
   "source": [
    "sorted(model[corpus[0]],key=lambda x:x[1],reverse=True)"
   ]
  },
  {
   "cell_type": "code",
   "execution_count": 58,
   "metadata": {},
   "outputs": [
    {
     "data": {
      "text/html": [
       "\n",
       "<link rel=\"stylesheet\" type=\"text/css\" href=\"https://cdn.jsdelivr.net/gh/bmabey/pyLDAvis@3.4.0/pyLDAvis/js/ldavis.v1.0.0.css\">\n",
       "\n",
       "\n",
       "<div id=\"ldavis_el5754158733757606394267984\" style=\"background-color:white;\"></div>\n",
       "<script type=\"text/javascript\">\n",
       "\n",
       "var ldavis_el5754158733757606394267984_data = {\"mdsDat\": {\"x\": [-0.1651018342972819, -0.03967497496960961, 0.1419091896929902, 0.06286761957390119], \"y\": [-0.072918804729024, 0.11091636726075849, -0.06641578610908846, 0.028418223577353872], \"topics\": [1, 2, 3, 4], \"cluster\": [1, 1, 1, 1], \"Freq\": [27.708420601145384, 27.576305180296167, 22.681007322201435, 22.034266896357014]}, \"tinfo\": {\"Term\": [\"whale\", \"Elizabeth\", \"Darcy\", \"ship\", \"Bingley\", \"Miss\", \"Bennet\", \"Collins\", \"Jane\", \"Queequeg\", \"Mrs\", \"sea\", \"Captain\", \"Ahab\", \"Lucy\", \"sister\", \"Count\", \"room\", \"old\", \"sleep\", \"Bildad\", \"Lady\", \"door\", \"Peleg\", \"harpooneer\", \"Catherine\", \"Wickham\", \"Mrs_Bennet\", \"Whale\", \"Charlotte\", \"Darcy\", \"Bingley\", \"Collins\", \"Bennet\", \"Jane\", \"Catherine\", \"Wickham\", \"Lady_Catherine\", \"Charlotte\", \"Mrs_Bennet\", \"Lady Catherine\", \"Miss_Bingley\", \"Lucas\", \"Netherfield\", \"Miss Bingley\", \"Lady\", \"Longbourn\", \"Lydia\", \"Miss_Bennet\", \"Lizzy\", \"Bourgh\", \"Colonel\", \"Fitzwilliam\", \"Rosings\", \"Meryton\", \"Hurst\", \"Hertfordshire\", \"Colonel_Fitzwilliam\", \"behaviour\", \"Miss_Lucas\", \"Miss\", \"Mrs\", \"Sir_William\", \"sister\", \"Elizabeth\", \"dance\", \"lady\", \"daughter\", \"aunt\", \"family\", \"cousin\", \"young\", \"wish\", \"mother\", \"reply\", \"manner\", \"hope\", \"believe\", \"dear\", \"room\", \"mean\", \"girl\", \"father\", \"Felix\", \"Clerval\", \"Geneva\", \"creator\", \"wretch\", \"Safie\", \"inhabit\", \"Frankenstein\", \"abhor\", \"hovel\", \"forever\", \"victim\", \"protector\", \"Victor\", \"cottage\", \"contemplate\", \"unfortunate\", \"hatred\", \"daemon\", \"thirst\", \"Mont\", \"crime\", \"fulfil\", \"cottager\", \"threat\", \"Ingolstadt\", \"divine\", \"ardour\", \"accent\", \"Switzerland\", \"lake\", \"murderer\", \"sensation\", \"anguish\", \"despair\", \"weep\", \"miserable\", \"misery\", \"fiend\", \"tale\", \"grief\", \"Henry\", \"murder\", \"scene\", \"reflect\", \"endure\", \"gentle\", \"human\", \"mountain\", \"Justine\", \"father\", \"horror\", \"discover\", \"creature\", \"tear\", \"appear\", \"endeavour\", \"life\", \"death\", \"feeling\", \"month\", \"remain\", \"destroy\", \"mind\", \"pass\", \"return\", \"desire\", \"love\", \"heart\", \"enter\", \"child\", \"nature\", \"spirit\", \"dear\", \"word\", \"Elizabeth\", \"hope\", \"fear\", \"country\", \"old\", \"whale\", \"Ahab\", \"Bildad\", \"Peleg\", \"Whale\", \"Jonah\", \"mast\", \"Captain_Ahab\", \"Nantucket\", \"Pequod\", \"Stubb\", \"Starbuck\", \"oil\", \"Captain_Peleg\", \"whaling\", \"Flask\", \"mast_head\", \"whale_ship\", \"whaleman\", \"sperm\", \"Cape\", \"shipmate\", \"Leviathan\", \"ship\", \"sperm_whale\", \"horn\", \"pilot\", \"Greenland\", \"Captain\", \"harpooneer\", \"leg\", \"pipe\", \"sailor\", \"cabin\", \"Queequeg\", \"thou\", \"deck\", \"sea\", \"voyage\", \"captain\", \"sail\", \"head\", \"old\", \"board\", \"CHAPTER\", \"fish\", \"stand\", \"mate\", \"sort\", \"world\", \"round\", \"water\", \"God\", \"small\", \"Count\", \"Lucy\", \"Jonathan\", \"Van_Helsing\", \"Helsing\", \"Mina\", \"Van Helsing\", \"later\", \"key\", \"Westenra\", \"harbour\", \"Seward\", \"Hawkins\", \"Whitby\", \"Dracula\", \"diary\", \"Holmwood\", \"pier\", \"Van\", \"driver\", \"Cliff\", \"Diary\", \"courtyard\", \"Arthur\", \"Renfield\", \"crucifix\", \"cat\", \"Bistritz\", \"Murray\", \"Professor\", \"wolf\", \"asleep\", \"patient\", \"September\", \"window\", \"July\", \"bed\", \"sleep\", \"door\", \"lock\", \"August\", \"wake\", \"room\", \"wall\", \"run\", \"try\", \"ask\", \"write\", \"open\", \"whilst\", \"close\", \"face\", \"light\", \"fear\", \"sit\", \"lie\", \"old\", \"fall\", \"letter\", \"dear\", \"don\", \"strange\", \"want\", \"grow\", \"till\", \"round\", \"sort\", \"hold\", \"morning\", \"house\", \"heart\"], \"Freq\": [333.0, 386.0, 229.0, 210.0, 205.0, 193.0, 166.0, 146.0, 142.0, 161.0, 192.0, 218.0, 122.0, 106.0, 102.0, 176.0, 85.0, 252.0, 282.0, 159.0, 75.0, 88.0, 163.0, 70.0, 75.0, 78.0, 76.0, 76.0, 63.0, 72.0, 227.53332339750807, 203.89067844650575, 145.57159666574393, 165.16259549539515, 141.70037045492128, 77.64289149475837, 75.72507211776991, 71.04678940715674, 71.91743606690515, 75.60288536938502, 59.717744351948525, 67.15405024828333, 57.70736454840815, 48.328691481576314, 45.510504726569216, 87.07510622080213, 39.830515342720616, 36.06117828636178, 34.18296293462431, 36.02953660059338, 30.442230358665135, 29.49422345867404, 28.56066393340506, 28.557168905315635, 29.464420143521213, 29.40988496180717, 23.82577167936913, 22.899822866853956, 22.84785526823329, 22.839482304248634, 185.5767312579236, 175.4268864969243, 37.98938127144846, 157.40060301123776, 319.5997545139754, 59.5930985763731, 101.78271304114728, 72.75602097673938, 33.95146039207446, 78.08071161039801, 55.457784172859654, 119.57516711210558, 100.06771856907012, 72.1018961449482, 69.46200066080942, 83.95668215745681, 88.67632466705395, 75.19842495467185, 95.95614958934856, 90.05470144387421, 78.20100571021591, 67.09199875025273, 70.60520759349242, 47.083932723341775, 51.56020852275229, 35.02744071518621, 18.864792165823186, 20.658269076433978, 23.418257808847397, 15.917656433858626, 14.951179841937007, 14.916283470471116, 13.949872640994041, 30.607098223519678, 16.684160000884155, 13.89485883314431, 22.217790218930215, 54.62780578684095, 12.011205170451616, 11.98298368710701, 11.060111118906619, 11.059199839317928, 13.808619607429522, 11.962739423151548, 23.888257302690803, 10.981148037948953, 23.78218717695769, 10.053337414760875, 15.531000269511306, 12.77371954061789, 12.769691590889527, 10.024965617257312, 9.107317053245438, 31.730074167175882, 27.108601936186897, 42.284843175613794, 20.642014009337775, 40.47960770505254, 27.303580538285694, 55.11143219865751, 49.60650493899647, 28.61578087014303, 29.330404914399004, 26.94397270224548, 25.281749410640312, 38.63862095124631, 57.28162105253697, 31.72181863172679, 33.08067741798858, 32.3198364671701, 54.19026005938034, 51.079297160431935, 43.0077462419062, 125.86808816135361, 45.909819433075874, 48.2529729107428, 61.11455694891922, 46.651873462683184, 78.14341784886055, 48.02551000969766, 108.6987070093727, 65.50633740172475, 85.70685993692925, 45.82710906710853, 66.18387377591625, 36.74304432249179, 81.51584753000117, 77.55876623027095, 68.84058258917224, 50.073155245485566, 72.9604635176903, 67.2927836024161, 58.44515598386611, 49.34040660178133, 48.795954626078405, 50.681688026079826, 61.75268752687606, 55.56099836151739, 64.23344891975273, 55.08212563497792, 53.377140313807566, 48.780646068451894, 48.88605856973956, 331.569151532554, 105.77857749742743, 74.27109766323895, 69.44391574482079, 62.69906790324463, 60.51140809384688, 52.94900621622571, 39.637018002385, 50.9503699440921, 45.281008309489074, 44.33613015755318, 38.59864417122349, 30.032322779272803, 29.082723481881796, 29.036727084814835, 37.35703314148087, 24.187139042773982, 21.371072365245567, 33.29446043315285, 17.53922922134038, 19.376392273918857, 31.341063320353634, 16.571008057260638, 201.46720946964615, 15.6117230711168, 15.608633270725862, 17.438866245841073, 22.928447666012495, 116.51584538024984, 71.44458419576732, 35.66688624929794, 28.16821404013404, 43.87212501000464, 46.08838599763822, 140.42632220858806, 66.29185959458434, 60.10942689812842, 161.94694129910076, 60.99379171024155, 42.04054465397496, 64.65374575231093, 103.36106512853182, 137.20307025765865, 37.75017860916673, 43.71776827975254, 45.147351986232465, 72.04464101042039, 48.51174377821434, 68.30131354861182, 66.6751068833373, 60.008285435878534, 51.60482424484009, 54.31202640793796, 45.86344775648642, 84.22280123782362, 100.71561039384544, 34.70486285679939, 25.41476139258951, 25.402118425903684, 34.45577558231374, 22.604138130322116, 22.57835113236606, 32.48038006608475, 19.765402705229473, 25.119112644682165, 19.67226474521499, 15.16162411871427, 16.935399315759387, 15.1316690891404, 13.264495078233493, 13.22645827100896, 14.970423878574929, 25.409718843756973, 27.965138840974813, 10.478522504536926, 10.475667187064388, 10.454586818238221, 39.213877369208774, 10.39384634306577, 9.525037886640522, 9.501283296717828, 8.62795775244743, 8.601746632408698, 10.311069347734742, 20.620361511344285, 26.2505258594936, 22.586079162173426, 15.124118402416277, 81.2874860832491, 21.0591871184365, 80.87483406326795, 112.93109204667543, 114.82920726483074, 30.164474570150176, 29.453462048237476, 29.743120540888604, 136.25568223021938, 33.33893077337763, 67.50940355929642, 69.94586106561604, 72.68124582107505, 67.18223653537773, 70.17522478661081, 29.96559696965582, 53.55879718001326, 60.570098200583665, 63.64768567078619, 65.52966173004317, 64.63203924504523, 52.40926869766162, 89.29136038923842, 50.61721402651776, 57.99616133349956, 72.4609050158923, 40.86436909705761, 46.74281376174765, 50.424677614153346, 40.26871778163313, 48.050460961789796, 48.98381854722287, 50.54527841734437, 42.52361350363922, 45.91836547253623, 46.650280081868665, 44.380739011485524], \"Total\": [333.0, 386.0, 229.0, 210.0, 205.0, 193.0, 166.0, 146.0, 142.0, 161.0, 192.0, 218.0, 122.0, 106.0, 102.0, 176.0, 85.0, 252.0, 282.0, 159.0, 75.0, 88.0, 163.0, 70.0, 75.0, 78.0, 76.0, 76.0, 63.0, 72.0, 229.11161360144374, 205.44627712343691, 146.7453288507, 166.62995064488766, 142.9613897583125, 78.58402389180233, 76.69152264232869, 71.9572051381787, 72.90533338721488, 76.69321822976596, 60.59678185640921, 68.17559910147213, 58.705631927202354, 49.23798608842261, 46.399126402241464, 88.98638651877283, 40.71751578704294, 36.9314183270767, 35.038283415704065, 36.93132116410201, 31.25048862655726, 30.30377140080023, 29.357003988208366, 29.356912630350646, 30.30426767121741, 30.307092605683057, 24.62357987642198, 23.676683999599764, 23.67737538682577, 23.677379148816392, 193.07439686592332, 192.12097136327088, 39.785733270756374, 176.57492912371123, 386.21423571665116, 65.41052307493854, 125.09404883584065, 87.49456359744421, 35.99209954852888, 113.89464906550388, 71.6657249829913, 221.30505667767062, 187.1485713035558, 115.25213612423627, 110.00013547780324, 154.2338122370852, 170.7573018030545, 134.11714267822933, 233.9105694537842, 252.2350049366025, 170.8207102598291, 110.53543214702299, 213.76623396182669, 48.4481225210244, 53.37697911275092, 36.55957987958795, 19.758677532722057, 21.728645550538147, 24.691587425027027, 16.78917191217749, 15.800690131836136, 15.798618295866003, 14.80975468859757, 32.577840352841044, 17.769153244411424, 14.807781196731039, 23.691320753106723, 58.27420364471699, 12.831737755027824, 12.830807319603865, 11.843734967425284, 11.843477036487027, 14.802509574365354, 12.829058406324057, 25.665232601595033, 11.839732657898423, 25.65210540215156, 10.852614655462732, 16.771214229914506, 13.812795245632508, 13.809559078184819, 10.851487047495496, 9.864960848159699, 34.50561538702201, 29.59751426347983, 47.25732354350654, 22.692878014645174, 46.22547303119227, 30.549254529369573, 64.89896974669858, 58.0352463853151, 32.48547109617987, 33.466307230381844, 30.547722276727548, 28.590836968606745, 46.15286996369325, 72.54672244119377, 37.35837098707014, 39.335380264908736, 38.299912280852475, 69.63686937548984, 65.55311302817691, 53.94483232419498, 213.76623396182669, 60.62047676165332, 65.61381990035031, 90.90211586717814, 63.63546824158536, 132.14724774956116, 68.36498274678266, 220.75833078316003, 108.0282794372872, 164.53599438283615, 65.38687159182793, 115.57513536582991, 47.06246899557706, 172.07225516661168, 181.2704519008107, 156.3076268278759, 86.35852553433993, 183.70195938569125, 161.9458907417926, 123.81620771765142, 84.50495399692694, 86.53203170648513, 100.62325133431557, 233.9105694537842, 171.09398604012844, 386.21423571665116, 170.7573018030545, 148.5979489188353, 107.22027287583458, 282.80931773518523, 333.2932541732269, 106.92541940807598, 75.13225229926441, 70.31617960771217, 63.57112440826391, 61.63723291933465, 53.942354247785275, 40.45362750132303, 52.00718022723075, 46.23532286241942, 45.27146257323774, 39.491493493521936, 30.819438647518655, 29.856682912118547, 29.857083272277404, 38.53554495845591, 25.04206795408661, 22.150000721405103, 34.657147369881976, 18.296573756236487, 20.221353852451447, 32.72930200485305, 17.332875292689334, 210.74350880812315, 16.369921544450523, 16.36955763084176, 18.293835199940876, 24.06425541326581, 122.2901318900845, 75.05781817063918, 37.531878203237405, 29.83121827627015, 47.17594539860183, 50.16522952247047, 161.27211597586472, 74.36113414345793, 69.29613476245656, 218.07195827709543, 73.4905459338107, 48.96635291837411, 86.4667999993172, 183.98948860194972, 282.80931773518523, 43.35180171474374, 54.6146739660589, 57.637014703086, 141.5161806806158, 68.01859873959923, 147.38367785886248, 157.92821180849234, 122.94672039635716, 96.47423944263255, 118.61496897334976, 93.99095636262156, 85.25764000071506, 102.12355189069775, 35.61551984423841, 26.246374722932647, 26.24645681759506, 35.622071250195276, 23.436526285768227, 23.438340256974687, 33.751419894028125, 20.627611633441713, 26.255247545191843, 20.63026138286695, 15.944014887076966, 17.81858361543016, 15.945353660907843, 14.071037410956114, 14.071283839132665, 15.946504416979131, 27.20749521296555, 30.026662513145595, 11.260135534636376, 11.26103516108498, 11.261650797851253, 42.27395992169644, 11.265571408356976, 10.324448434782468, 10.32673151805796, 9.387035071678802, 9.387542171159774, 11.263163484162563, 22.530121782816963, 29.114023840815744, 25.34511244307449, 16.928854791226364, 101.70039808318087, 24.475407583588574, 108.62825255633018, 159.14278066437797, 163.53676165312777, 37.70423933220869, 36.83429498552302, 37.6617578361789, 252.2350049366025, 43.48028335432293, 115.61133492914453, 123.13032510073245, 137.24669147712717, 126.67638863125535, 140.9167051731615, 39.79149980416404, 100.80044283130707, 125.76006439177297, 140.72909017677193, 148.5979489188353, 148.35312784453203, 105.12556959413075, 282.80931773518523, 102.25490656444671, 143.6834990473987, 233.9105694537842, 72.04595843320838, 100.50191994044437, 124.20954866014588, 71.99882387232276, 116.40050832538768, 122.94672039635716, 147.38367785886248, 91.42035663814343, 142.34581724645955, 162.39197148556514, 161.9458907417926], \"Category\": [\"Default\", \"Default\", \"Default\", \"Default\", \"Default\", \"Default\", \"Default\", \"Default\", \"Default\", \"Default\", \"Default\", \"Default\", \"Default\", \"Default\", \"Default\", \"Default\", \"Default\", \"Default\", \"Default\", \"Default\", \"Default\", \"Default\", \"Default\", \"Default\", \"Default\", \"Default\", \"Default\", \"Default\", \"Default\", \"Default\", \"Topic1\", \"Topic1\", \"Topic1\", \"Topic1\", \"Topic1\", \"Topic1\", \"Topic1\", \"Topic1\", \"Topic1\", \"Topic1\", \"Topic1\", \"Topic1\", \"Topic1\", \"Topic1\", \"Topic1\", \"Topic1\", \"Topic1\", \"Topic1\", \"Topic1\", \"Topic1\", \"Topic1\", \"Topic1\", \"Topic1\", \"Topic1\", \"Topic1\", \"Topic1\", \"Topic1\", \"Topic1\", \"Topic1\", \"Topic1\", \"Topic1\", \"Topic1\", \"Topic1\", \"Topic1\", \"Topic1\", \"Topic1\", \"Topic1\", \"Topic1\", \"Topic1\", \"Topic1\", \"Topic1\", \"Topic1\", \"Topic1\", \"Topic1\", \"Topic1\", \"Topic1\", \"Topic1\", \"Topic1\", \"Topic1\", \"Topic1\", \"Topic1\", \"Topic1\", \"Topic1\", \"Topic2\", \"Topic2\", \"Topic2\", \"Topic2\", \"Topic2\", \"Topic2\", \"Topic2\", \"Topic2\", \"Topic2\", \"Topic2\", \"Topic2\", \"Topic2\", \"Topic2\", \"Topic2\", \"Topic2\", \"Topic2\", \"Topic2\", \"Topic2\", \"Topic2\", \"Topic2\", \"Topic2\", \"Topic2\", \"Topic2\", \"Topic2\", \"Topic2\", \"Topic2\", \"Topic2\", \"Topic2\", \"Topic2\", \"Topic2\", \"Topic2\", \"Topic2\", \"Topic2\", \"Topic2\", \"Topic2\", \"Topic2\", \"Topic2\", \"Topic2\", \"Topic2\", \"Topic2\", \"Topic2\", \"Topic2\", \"Topic2\", \"Topic2\", \"Topic2\", \"Topic2\", \"Topic2\", \"Topic2\", \"Topic2\", \"Topic2\", \"Topic2\", \"Topic2\", \"Topic2\", \"Topic2\", \"Topic2\", \"Topic2\", \"Topic2\", \"Topic2\", \"Topic2\", \"Topic2\", \"Topic2\", \"Topic2\", \"Topic2\", \"Topic2\", \"Topic2\", \"Topic2\", \"Topic2\", \"Topic2\", \"Topic2\", \"Topic2\", \"Topic2\", \"Topic2\", \"Topic2\", \"Topic2\", \"Topic2\", \"Topic2\", \"Topic2\", \"Topic2\", \"Topic2\", \"Topic2\", \"Topic3\", \"Topic3\", \"Topic3\", \"Topic3\", \"Topic3\", \"Topic3\", \"Topic3\", \"Topic3\", \"Topic3\", \"Topic3\", \"Topic3\", \"Topic3\", \"Topic3\", \"Topic3\", \"Topic3\", \"Topic3\", \"Topic3\", \"Topic3\", \"Topic3\", \"Topic3\", \"Topic3\", \"Topic3\", \"Topic3\", \"Topic3\", \"Topic3\", \"Topic3\", \"Topic3\", \"Topic3\", \"Topic3\", \"Topic3\", \"Topic3\", \"Topic3\", \"Topic3\", \"Topic3\", \"Topic3\", \"Topic3\", \"Topic3\", \"Topic3\", \"Topic3\", \"Topic3\", \"Topic3\", \"Topic3\", \"Topic3\", \"Topic3\", \"Topic3\", \"Topic3\", \"Topic3\", \"Topic3\", \"Topic3\", \"Topic3\", \"Topic3\", \"Topic3\", \"Topic3\", \"Topic3\", \"Topic4\", \"Topic4\", \"Topic4\", \"Topic4\", \"Topic4\", \"Topic4\", \"Topic4\", \"Topic4\", \"Topic4\", \"Topic4\", \"Topic4\", \"Topic4\", \"Topic4\", \"Topic4\", \"Topic4\", \"Topic4\", \"Topic4\", \"Topic4\", \"Topic4\", \"Topic4\", \"Topic4\", \"Topic4\", \"Topic4\", \"Topic4\", \"Topic4\", \"Topic4\", \"Topic4\", \"Topic4\", \"Topic4\", \"Topic4\", \"Topic4\", \"Topic4\", \"Topic4\", \"Topic4\", \"Topic4\", \"Topic4\", \"Topic4\", \"Topic4\", \"Topic4\", \"Topic4\", \"Topic4\", \"Topic4\", \"Topic4\", \"Topic4\", \"Topic4\", \"Topic4\", \"Topic4\", \"Topic4\", \"Topic4\", \"Topic4\", \"Topic4\", \"Topic4\", \"Topic4\", \"Topic4\", \"Topic4\", \"Topic4\", \"Topic4\", \"Topic4\", \"Topic4\", \"Topic4\", \"Topic4\", \"Topic4\", \"Topic4\", \"Topic4\", \"Topic4\", \"Topic4\", \"Topic4\", \"Topic4\", \"Topic4\", \"Topic4\", \"Topic4\"], \"logprob\": [30.0, 29.0, 28.0, 27.0, 26.0, 25.0, 24.0, 23.0, 22.0, 21.0, 20.0, 19.0, 18.0, 17.0, 16.0, 15.0, 14.0, 13.0, 12.0, 11.0, 10.0, 9.0, 8.0, 7.0, 6.0, 5.0, 4.0, 3.0, 2.0, 1.0, -4.4897, -4.5994, -4.9363, -4.81, -4.9633, -5.5649, -5.5899, -5.6536, -5.6415, -5.5915, -5.8273, -5.71, -5.8616, -6.0389, -6.099, -5.4502, -6.2323, -6.3318, -6.3852, -6.3326, -6.5011, -6.5328, -6.5649, -6.5651, -6.5338, -6.5356, -6.7462, -6.7858, -6.7881, -6.7885, -4.6935, -4.7497, -6.2797, -4.8582, -4.1499, -5.8294, -5.2941, -5.6299, -6.392, -5.5592, -5.9013, -5.133, -5.3111, -5.6389, -5.6762, -5.4867, -5.432, -5.5968, -5.3531, -5.4166, -5.5577, -5.7109, -5.6599, -6.0603, -5.9694, -6.3561, -6.9749, -6.8841, -6.7587, -7.1448, -7.2074, -7.2097, -7.2767, -6.491, -7.0977, -7.2807, -6.8113, -5.9116, -7.4264, -7.4287, -7.5088, -7.5089, -7.2869, -7.4304, -6.7388, -7.516, -6.7433, -7.6043, -7.1694, -7.3648, -7.3651, -7.6071, -7.7031, -6.4549, -6.6123, -6.1678, -6.8849, -6.2114, -6.6052, -5.9028, -6.0081, -6.5582, -6.5336, -6.6184, -6.6821, -6.2579, -5.8642, -6.4552, -6.4132, -6.4365, -5.9197, -5.9788, -6.1508, -5.077, -6.0855, -6.0357, -5.7994, -6.0695, -5.5536, -6.0405, -5.2236, -5.73, -5.4613, -6.0873, -5.7198, -6.3082, -5.5114, -5.5612, -5.6804, -5.9987, -5.6223, -5.7031, -5.8441, -6.0134, -6.0245, -5.9866, -5.7891, -5.8947, -5.7497, -5.9034, -5.9348, -6.0249, -6.0227, -3.9129, -5.0554, -5.409, -5.4762, -5.5784, -5.6139, -5.7474, -6.037, -5.7859, -5.9039, -5.925, -6.0635, -6.3145, -6.3466, -6.3482, -6.0962, -6.5309, -6.6547, -6.2114, -6.8523, -6.7527, -6.2718, -6.9091, -4.4111, -6.9687, -6.9689, -6.8581, -6.5844, -4.9587, -5.4478, -6.1425, -6.3786, -5.9355, -5.8862, -4.7721, -5.5227, -5.6206, -4.6295, -5.606, -5.9781, -5.5477, -5.0785, -4.7953, -6.0858, -5.939, -5.9068, -5.4395, -5.835, -5.4928, -5.5169, -5.6223, -5.7731, -5.722, -5.8911, -5.2544, -5.0755, -6.141, -6.4525, -6.453, -6.1482, -6.5697, -6.5708, -6.2072, -6.7039, -6.4642, -6.7086, -6.9691, -6.8584, -6.971, -7.1027, -7.1056, -6.9818, -6.4527, -6.3569, -7.3385, -7.3388, -7.3408, -6.0188, -7.3466, -7.4339, -7.4364, -7.5328, -7.5359, -7.3546, -6.6616, -6.4201, -6.5705, -6.9715, -5.2898, -6.6405, -5.2949, -4.9611, -4.9444, -6.2812, -6.305, -6.2952, -4.7733, -6.1811, -5.4756, -5.4401, -5.4017, -5.4804, -5.4368, -6.2878, -5.7071, -5.584, -5.5345, -5.5053, -5.5191, -5.7287, -5.1959, -5.7635, -5.6275, -5.4048, -5.9776, -5.8432, -5.7674, -5.9923, -5.8156, -5.7963, -5.765, -5.9378, -5.861, -5.8452, -5.895], \"loglift\": [30.0, 29.0, 28.0, 27.0, 26.0, 25.0, 24.0, 23.0, 22.0, 21.0, 20.0, 19.0, 18.0, 17.0, 16.0, 15.0, 14.0, 13.0, 12.0, 11.0, 10.0, 9.0, 8.0, 7.0, 6.0, 5.0, 4.0, 3.0, 2.0, 1.0, 1.2765, 1.2758, 1.2754, 1.2746, 1.2746, 1.2714, 1.2708, 1.2707, 1.2698, 1.2691, 1.2688, 1.2683, 1.2663, 1.2648, 1.2641, 1.2617, 1.2614, 1.2596, 1.2587, 1.2587, 1.2572, 1.2564, 1.2559, 1.2558, 1.2553, 1.2534, 1.2505, 1.2501, 1.2478, 1.2474, 1.2438, 1.1925, 1.2372, 1.1685, 1.0941, 1.1903, 1.0772, 1.099, 1.2251, 0.9059, 1.027, 0.6678, 0.6574, 0.8144, 0.8237, 0.6753, 0.6282, 0.7049, 0.3924, 0.2535, 0.5021, 0.7842, 0.1757, 1.2597, 1.2536, 1.2454, 1.2419, 1.2377, 1.2353, 1.2349, 1.2329, 1.2307, 1.2284, 1.2258, 1.2252, 1.2246, 1.224, 1.2236, 1.2221, 1.2199, 1.2198, 1.2197, 1.2187, 1.2183, 1.2165, 1.2129, 1.2125, 1.2117, 1.2114, 1.21, 1.2099, 1.209, 1.2083, 1.2044, 1.2004, 1.177, 1.1935, 1.1555, 1.1759, 1.1247, 1.1313, 1.1614, 1.1563, 1.1627, 1.1652, 1.1105, 1.052, 1.1247, 1.115, 1.1184, 1.0374, 1.0387, 1.0616, 0.7586, 1.0103, 0.9809, 0.8912, 0.9778, 0.7628, 0.9351, 0.5797, 0.788, 0.636, 0.9328, 0.7307, 1.0407, 0.5411, 0.4393, 0.4682, 0.7432, 0.3648, 0.41, 0.5375, 0.7501, 0.7153, 0.6024, -0.0436, 0.1635, -0.5057, 0.1568, 0.2644, 0.5007, -0.4671, 1.4785, 1.4729, 1.4721, 1.4712, 1.4698, 1.4652, 1.4651, 1.4632, 1.4631, 1.4628, 1.4628, 1.4608, 1.4578, 1.4574, 1.4558, 1.4526, 1.4489, 1.4478, 1.4435, 1.4414, 1.441, 1.4403, 1.4387, 1.4386, 1.4362, 1.436, 1.4358, 1.4353, 1.4353, 1.4343, 1.4327, 1.4263, 1.411, 1.3989, 1.3452, 1.3688, 1.3414, 1.1861, 1.2973, 1.3311, 1.1929, 0.907, 0.7603, 1.3453, 1.2611, 1.2394, 0.8085, 1.1457, 0.7145, 0.6213, 0.7664, 0.858, 0.7025, 0.7661, 1.5004, 1.4987, 1.4867, 1.4804, 1.4799, 1.4793, 1.4764, 1.4752, 1.4742, 1.4699, 1.4683, 1.465, 1.4623, 1.4617, 1.4602, 1.4535, 1.4507, 1.4494, 1.4442, 1.4414, 1.4406, 1.4403, 1.4382, 1.4374, 1.432, 1.432, 1.4293, 1.4282, 1.4252, 1.4243, 1.424, 1.409, 1.3973, 1.3998, 1.2885, 1.3622, 1.2175, 1.1695, 1.159, 1.2895, 1.289, 1.2765, 0.8967, 1.247, 0.9746, 0.947, 0.8769, 0.8783, 0.8154, 1.229, 0.8802, 0.782, 0.7191, 0.6938, 0.6817, 0.8165, 0.3597, 0.8094, 0.6053, 0.3407, 0.9455, 0.7471, 0.6111, 0.9315, 0.6278, 0.5923, 0.4424, 0.7472, 0.3812, 0.2652, 0.2181]}, \"token.table\": {\"Topic\": [2, 3, 2, 4, 2, 3, 4, 1, 3, 3, 1, 2, 3, 4, 1, 3, 4, 3, 1, 2, 3, 3, 3, 1, 1, 1, 2, 4, 1, 1, 1, 4, 1, 2, 3, 4, 4, 1, 2, 3, 4, 1, 2, 1, 2, 3, 2, 1, 2, 1, 2, 3, 4, 3, 4, 4, 4, 1, 2, 3, 1, 4, 1, 1, 2, 1, 3, 4, 4, 2, 3, 4, 1, 2, 4, 1, 4, 1, 1, 3, 1, 1, 1, 1, 4, 1, 1, 3, 4, 1, 2, 3, 4, 1, 1, 1, 1, 2, 1, 2, 3, 4, 1, 4, 3, 1, 3, 3, 4, 2, 3, 4, 4, 1, 1, 2, 2, 4, 4, 1, 3, 3, 3, 2, 3, 4, 4, 4, 1, 2, 4, 3, 4, 1, 2, 2, 2, 3, 1, 2, 3, 4, 2, 1, 2, 3, 4, 3, 4, 1, 2, 3, 4, 1, 2, 3, 4, 1, 1, 2, 3, 4, 2, 3, 4, 2, 3, 2, 3, 4, 4, 1, 2, 3, 4, 1, 2, 3, 4, 2, 2, 3, 4, 1, 2, 1, 2, 3, 4, 4, 1, 2, 2, 1, 2, 3, 4, 2, 3, 4, 2, 1, 2, 3, 4, 1, 2, 3, 4, 1, 2, 3, 4, 1, 2, 3, 4, 2, 3, 4, 1, 2, 3, 4, 1, 2, 4, 1, 2, 3, 4, 4, 1, 2, 3, 4, 2, 3, 4, 1, 2, 3, 4, 3, 4, 1, 2, 4, 1, 2, 3, 4, 1, 2, 3, 4, 1, 2, 3, 4, 1, 2, 3, 4, 1, 2, 3, 4, 1, 2, 3, 4, 1, 2, 3, 4, 1, 2, 3, 4, 2, 3, 4, 1, 2, 3, 4, 1, 2, 2, 1, 2, 4, 1, 2, 3, 4, 1, 2, 3, 1, 2, 3, 4, 4, 3, 4, 2, 1, 2, 3, 4, 1, 2, 3, 4, 1, 2, 3, 4, 1, 2, 3, 4, 3, 1, 2, 3, 4, 1, 2, 3, 4, 2, 1, 2, 3, 4, 2, 3, 4, 1, 2, 3, 4, 1, 2, 4, 4, 3, 4, 1, 2, 3, 4, 1, 2, 3, 4, 1, 2, 3, 4, 1, 2, 3, 4, 2, 3, 4, 1, 2, 3, 4, 1, 2, 3, 4, 3, 3, 2, 3, 4, 1, 2, 3, 4, 1, 2, 3, 4, 1, 2, 3, 4, 1, 2, 3, 4, 1, 2, 3, 4, 1, 2, 3, 4, 1, 2, 3, 4, 1, 2, 3, 4, 1, 2, 3, 4, 1, 2, 3, 4, 1, 2, 3, 4, 3, 1, 2, 3, 4, 1, 2, 3, 4, 1, 2, 3, 4, 1, 3, 4, 4, 3, 3, 4, 2, 1, 2, 1, 2, 3, 4, 1, 2, 3, 4, 1, 2, 3, 4, 1, 2, 3, 4, 1, 2, 3, 4, 1, 2, 3, 4, 2, 3, 4, 2, 3, 4, 1, 2, 3, 4, 1, 2, 3, 4, 1, 2, 4, 2, 3, 4, 3, 4, 1, 2, 3, 4, 1, 2, 3, 4, 1, 2, 3, 4, 1, 2, 3, 4, 1, 2, 3, 4, 3, 3, 1, 2, 3, 4, 1, 2, 3, 4, 1, 2, 3, 4, 2, 3, 4, 1, 2, 3, 4, 2, 2, 3, 2, 1, 2, 3, 4, 1, 2, 3, 4, 2, 1, 2, 2, 3, 4, 1, 3, 4, 2, 3, 4, 1, 2, 3, 4, 2, 3, 4, 1, 2, 3, 4, 1, 2, 3, 4, 3, 3, 4, 3, 1, 2, 4, 1, 2, 3, 4, 1, 2, 3, 4, 3, 4, 1, 2, 3, 4, 1, 2, 3, 4, 2, 1, 2, 3, 4, 1, 2, 3, 4], \"Freq\": [0.0093523130938916, 0.9913451879525096, 0.04731044841090299, 0.9225537440126084, 0.10859444986179644, 0.08144583739634734, 0.7873097614980242, 0.9902181412250352, 0.006001322068030516, 0.9849298767890725, 0.9929603147660448, 0.004867452523362965, 0.004867452523362965, 0.9587691887029901, 0.959984989626864, 0.8056442857709716, 0.18310097403885717, 0.9396007872982559, 0.032709098748828214, 0.008177274687207053, 0.9567411384032253, 0.988786481476644, 0.9713068288717758, 0.992568160004043, 0.9875820691689801, 0.018734668327475952, 0.9742027530287495, 0.8880887773721571, 0.9949209364513517, 0.9569765959637023, 0.9714198153925946, 0.9852489465964046, 0.9951481569006037, 0.004364684898686858, 0.004364684898686858, 0.8880178293517129, 0.9407129072824829, 0.8285556833662918, 0.16571113667325835, 0.005178473021039323, 0.0025892365105196617, 0.020640634723585894, 0.970109832008537, 0.9878392226825408, 0.025950067686289942, 0.9601525043927279, 0.9493256227952436, 0.027352611908932872, 0.9573414168126505, 0.03372255655943993, 0.1433208653776197, 0.45525451355243907, 0.3625174830139793, 0.9557744299589207, 0.041555409998213944, 0.9407918962844098, 0.9525095205704314, 0.034976240852900464, 0.8744060213225116, 0.06995248170580093, 0.9746754988693141, 0.9238673704986753, 0.9568717256158726, 0.05962597497659522, 0.9540155996255235, 0.9932751789840754, 0.9896615586204429, 0.01622395997738431, 0.9827176509866952, 0.08171467597299807, 0.08171467597299807, 0.8580040977164798, 0.18537456822374562, 0.7971106433621062, 0.01853745682237456, 0.9776776359117157, 0.011237673975996733, 0.9901515915841315, 0.9866975775901721, 0.9807951486947042, 0.974782349107855, 0.9823782032578896, 0.987980166399071, 0.009792060513820497, 0.9889981118958702, 0.9747797845501693, 0.9569609242708681, 0.028072483292069045, 0.9544644319303476, 0.9633592181005958, 0.0051793506349494395, 0.0051793506349494395, 0.031076103809696637, 0.9913979759277929, 0.9703671722902182, 0.9827563069930287, 0.9713912952713665, 0.9353765194555997, 0.9108844222378109, 0.0052050538413589195, 0.020820215365435678, 0.062460646096307026, 0.9909611534661494, 0.9587173975792754, 0.98063382358301, 0.9748570933384764, 0.9812819806898636, 0.9732818376526682, 0.8878500266875526, 0.006200699940897753, 0.8680979917256855, 0.12401399881795507, 0.8876602559708462, 0.9878422968094522, 0.04049962372959524, 0.9314913457806905, 0.059070741189077076, 0.8860611178361562, 0.9694496656552121, 0.9551162408242219, 0.02513463791642689, 0.9875544465391627, 0.9719147007636249, 0.9123198904209481, 0.0367545778166105, 0.9188644454152625, 0.981374104658449, 0.9525124998751301, 0.04220955051097633, 0.9286101112414793, 0.9695741977018696, 0.9910159775593073, 0.9540601187447189, 0.9909830628144679, 0.9494501176678865, 0.921532685449593, 0.9254004708634731, 0.044066689088736816, 0.27242338083518314, 0.5902506584762302, 0.052971212940174504, 0.09080779361172772, 0.9413769061270253, 0.3205906060572164, 0.11657840220262415, 0.029144600550656038, 0.5318889600494727, 0.06869541671516204, 0.8930404172971065, 0.9446517548707352, 0.027783875143256916, 0.027783875143256916, 0.027783875143256916, 0.027617124729538683, 0.07364566594543649, 0.15649704013405255, 0.7456623676975445, 0.971391449611317, 0.5592126293648995, 0.2907905672697477, 0.02236850517459598, 0.1192986942645119, 0.06920127610243507, 0.876549497297511, 0.04613418406829005, 0.05980237763401865, 0.916969790388286, 0.020422186673101406, 0.8577318402702591, 0.12253312003860845, 0.9683606068883831, 0.17750438631734514, 0.5798476619699942, 0.08283538028142773, 0.1538371348083658, 0.13888827872938486, 0.1785706440806377, 0.14880887006719806, 0.535711932241913, 0.9351812068710704, 0.9438138414609837, 0.03432050332585395, 0.017160251662926975, 0.03898315496224826, 0.9355957190939583, 0.279797832959642, 0.4570031271674153, 0.10259253875186874, 0.15855210534379716, 0.8879692843883973, 0.7674519446088539, 0.2093050758024147, 0.9616028182318568, 0.12100928449314291, 0.6710514867347016, 0.15401181662763644, 0.05500422022415587, 0.9351171825541319, 0.0389632159397555, 0.9685747440328706, 0.9287813001293059, 0.9172835987148446, 0.030576119957161484, 0.015288059978580742, 0.030576119957161484, 0.8343375519405687, 0.11429281533432448, 0.011429281533432447, 0.04571712613372979, 0.41041326274470713, 0.26505856552262336, 0.017100552614362798, 0.3078099470585303, 0.06479784771601083, 0.6109511356081021, 0.1573662015960263, 0.1758798723720294, 0.05772327726087156, 0.8658491589130733, 0.07215409657608945, 0.2431722851920333, 0.5789816314096031, 0.03473889788457619, 0.13895559153830475, 0.04326618785816273, 0.8653237571632547, 0.08653237571632547, 0.021248353971696218, 0.7861890969527601, 0.08499341588678487, 0.10624176985848109, 0.9238835503257085, 0.13716622525054284, 0.7315532013362285, 0.09144415016702856, 0.04572207508351428, 0.941156353136451, 0.41640087317058994, 0.5690811933331396, 0.12229666160579428, 0.12229666160579428, 0.055033497722607426, 0.703205804233317, 0.033303734624592476, 0.9325045694885894, 0.2779200584365563, 0.7021138318397212, 0.014627371496660858, 0.05084481163092273, 0.838939391910225, 0.05084481163092273, 0.025422405815461364, 0.20998866367551816, 0.4684362497376943, 0.1453767671599741, 0.16960622835330313, 0.08746814859868665, 0.15108134757954966, 0.2783077455412757, 0.4850506422290805, 0.09779481822417437, 0.2933844546725231, 0.1075743000465918, 0.49875357294328926, 0.6848434113453398, 0.22828113711511328, 0.06146030614637665, 0.017560087470393327, 0.3321385173145672, 0.5894289180512038, 0.02806804371672399, 0.05145808014732731, 0.10767308779436285, 0.35666710331882695, 0.0942139518200675, 0.4441514871517468, 0.3525064543934854, 0.5226819841006852, 0.018233092468628555, 0.10939855481177133, 0.8927067707942291, 0.03078299209635273, 0.06156598419270546, 0.06939984696649863, 0.05204988522487397, 0.7807482783731096, 0.10409977044974794, 0.030695711844901104, 0.9515670671919343, 0.9290750321682113, 0.0522194407479067, 0.8355110519665072, 0.07832916112186006, 0.6061404809173172, 0.17189058414073174, 0.054281237097073186, 0.16284371129121955, 0.032735664902971806, 0.8838629523802388, 0.06547132980594361, 0.1666693892289114, 0.0833346946144557, 0.18055850499798734, 0.555564630763038, 0.952190603305825, 0.9459374350395586, 0.039969187396037685, 0.9287610732808635, 0.09239658270249604, 0.11413695510308335, 0.5598145893151231, 0.23370900330631353, 0.1481976473133593, 0.4137184320831281, 0.16054745125613926, 0.27169568674115874, 0.08750786251759327, 0.12032331096169073, 0.3281544844409747, 0.4703547610320638, 0.5212075797651656, 0.32209457176499, 0.029281324705908184, 0.128837828705996, 0.9774240917698668, 0.016496076134996183, 0.7588195022098244, 0.049488228404988545, 0.181456837484958, 0.3510025740716294, 0.2216858362557659, 0.13547467771185695, 0.2894231751116944, 0.9453228830845509, 0.08616125414322297, 0.7754512872890067, 0.08616125414322297, 0.05744083609548198, 0.9529951854501478, 0.029628383135873255, 0.9481082603479442, 0.8153865107832053, 0.03996992699917673, 0.03996992699917673, 0.11191579559769485, 0.02898079019266274, 0.9273852861652077, 0.05796158038532548, 0.9812981528483338, 0.9591846111472975, 0.026644016976313818, 0.3688662953740862, 0.20879224266457708, 0.02087922426645771, 0.40366500248484904, 0.028537300787833186, 0.2473232734945543, 0.2187859727067211, 0.4946465469891086, 0.15854441314098702, 0.4937526009247882, 0.15854441314098702, 0.18572345539372767, 0.05684681106053538, 0.29133990668524384, 0.19896383871187384, 0.45477448848428303, 0.05304443307762235, 0.15913329923286704, 0.7956664961643353, 0.33205960461166073, 0.39738280551887273, 0.043548800604807966, 0.22318760309964084, 0.5446276583689499, 0.27231382918447494, 0.07132028859593391, 0.11022226419371604, 0.9825303463127221, 0.958387304275462, 0.04410558370196846, 0.7203912004654848, 0.23522977974383177, 0.4566191059699791, 0.1463522775544805, 0.2107472796784519, 0.18733091526973503, 0.15109931566146495, 0.4765439955476971, 0.14528780352063936, 0.232460485633023, 0.07704282547958861, 0.8474710802754747, 0.030817130191835445, 0.046225695287753166, 0.0861545407562045, 0.8615454075620451, 0.0344618163024818, 0.0172309081512409, 0.1835230789891432, 0.703505136125049, 0.015293589915761933, 0.0917615394945716, 0.28100579822969746, 0.21777949362801552, 0.1756286238935609, 0.3231566679641521, 0.6247172713778377, 0.16485594661359604, 0.03470651507654654, 0.16485594661359604, 0.015254805665295662, 0.7779950889300787, 0.015254805665295662, 0.18305766798354794, 0.021667124943403584, 0.8450178727927398, 0.04333424988680717, 0.10833562471701791, 0.03378662110263405, 0.9122387697711194, 0.03378662110263405, 0.03378662110263405, 0.17334621300560343, 0.5662642958183045, 0.16178979880522987, 0.10400772780336205, 0.9734116296896073, 0.024751659726270425, 0.17326161808389295, 0.48442534035700685, 0.3146996736625811, 0.14192781455841993, 0.18450615892594593, 0.17740976819802493, 0.4967473509544698, 0.25928108804913175, 0.4302962737836654, 0.10481575899858517, 0.20963151799717034, 0.039455338864485816, 0.039455338864485816, 0.9074727938831737, 0.9406450221171145, 0.9292747974495223, 0.9386140297955303, 0.033521929635554656, 0.9454488700231899, 0.1338388122365003, 0.8565683983136018, 0.164395221687254, 0.5710570858609877, 0.11248094115443696, 0.15574284159845117, 0.627271954714305, 0.2272724473602554, 0.06363628526087152, 0.07272718315528173, 0.40305134994708125, 0.44143719279918425, 0.04478348332745347, 0.10875988808095843, 0.3568101105658228, 0.07532657889722925, 0.027751897488452883, 0.5391797226327989, 0.056935231598153356, 0.056935231598153356, 0.4880162708413145, 0.39854662118707346, 0.10379605085742256, 0.07784703814306693, 0.23354111442920078, 0.5881776215253945, 0.08095592759365763, 0.751733613369678, 0.16191185518731527, 0.0211972434585198, 0.9326787121748712, 0.0423944869170396, 0.11027376193989721, 0.7857005538217676, 0.04135266072746145, 0.06892110121243576, 0.004585642316878447, 0.08254156170381205, 0.7428740553343085, 0.174254408041381, 0.021160741341590565, 0.8887511363468038, 0.0634822240247717, 0.004745104632904617, 0.9537660312138279, 0.037960837063236934, 0.9471634926832039, 0.0305536610542969, 0.8891409487130717, 0.062296499591361715, 0.028316590723346233, 0.022653272578676987, 0.229182899572098, 0.13481347033652824, 0.20222020550479236, 0.4381437785937168, 0.018850996491803232, 0.13824064093989036, 0.13824064093989036, 0.7100542011912551, 0.21278642939687786, 0.1383111791079706, 0.4894087876128191, 0.1489505005778145, 0.18998033165391184, 0.0067850118447825665, 0.4613808054452145, 0.3460356040839109, 0.9837907490119346, 0.9774023630201253, 0.2385134616676342, 0.5068411060437227, 0.07950448722254475, 0.16894703534790756, 0.13426026556553705, 0.09186228696589377, 0.5087757431957193, 0.2685205311310741, 0.05970035202865271, 0.2985017601432636, 0.18905111475740025, 0.4676527575577796, 0.8665431713264384, 0.0298807990112565, 0.059761598022513, 0.04714352047526099, 0.7385818207790888, 0.125716054600696, 0.09428704095052198, 0.9457855730250551, 0.10758308210531531, 0.8875604273688513, 0.921436936394534, 0.3522321387582604, 0.008591027774591718, 0.22336672213938466, 0.4123693331804025, 0.21927985634661, 0.11370066625379778, 0.10557919009281222, 0.5685033312689889, 0.9352490222236838, 0.05627730180753042, 0.9567141307280171, 0.14967911668403114, 0.8300387379750817, 0.013607192425821011, 0.02655213291821905, 0.1593127975093143, 0.7965639875465714, 0.11499465077664647, 0.11499465077664647, 0.7589646951258667, 0.37034189799579914, 0.08050910825995634, 0.1449163948679214, 0.4025455412997817, 0.2695019950425278, 0.5390039900850556, 0.1969437656080011, 0.03273402298699681, 0.8838186206489138, 0.03273402298699681, 0.03273402298699681, 0.0030003607558173285, 0.0030003607558173285, 0.9961197709313531, 0.0030003607558173285, 0.9480812332302194, 0.9521845421322217, 0.02885407703430975, 0.9712938044060984, 0.02513099543675289, 0.20104796349402312, 0.7539298631025867, 0.10816083523098, 0.06882962241971455, 0.02949840960844909, 0.7964570594281254, 0.5343348298277926, 0.23510732512422874, 0.026716741491389633, 0.2030472353345612, 0.04438502417517643, 0.932085507678705, 0.2513238541880412, 0.32730548452396063, 0.19872118703240468, 0.2279448910077583, 0.18995972699531824, 0.2532796359937577, 0.4242433902895441, 0.13297180889672278, 0.9664661311335119, 0.3315534998574879, 0.07894130948987807, 0.05525891664291465, 0.5289067735821831, 0.5422379488362944, 0.14911543592998097, 0.16267138465088832, 0.14911543592998097], \"Term\": [\"Ahab\", \"Ahab\", \"Arthur\", \"Arthur\", \"August\", \"August\", \"August\", \"Bennet\", \"Bennet\", \"Bildad\", \"Bingley\", \"Bingley\", \"Bingley\", \"Bistritz\", \"Bourgh\", \"CHAPTER\", \"CHAPTER\", \"Cape\", \"Captain\", \"Captain\", \"Captain\", \"Captain_Ahab\", \"Captain_Peleg\", \"Catherine\", \"Charlotte\", \"Clerval\", \"Clerval\", \"Cliff\", \"Collins\", \"Colonel\", \"Colonel_Fitzwilliam\", \"Count\", \"Darcy\", \"Darcy\", \"Darcy\", \"Diary\", \"Dracula\", \"Elizabeth\", \"Elizabeth\", \"Elizabeth\", \"Elizabeth\", \"Felix\", \"Felix\", \"Fitzwilliam\", \"Flask\", \"Flask\", \"Frankenstein\", \"Geneva\", \"Geneva\", \"God\", \"God\", \"God\", \"God\", \"Greenland\", \"Greenland\", \"Hawkins\", \"Helsing\", \"Henry\", \"Henry\", \"Henry\", \"Hertfordshire\", \"Holmwood\", \"Hurst\", \"Ingolstadt\", \"Ingolstadt\", \"Jane\", \"Jonah\", \"Jonah\", \"Jonathan\", \"July\", \"July\", \"July\", \"Justine\", \"Justine\", \"Justine\", \"Lady\", \"Lady\", \"Lady Catherine\", \"Lady_Catherine\", \"Leviathan\", \"Lizzy\", \"Longbourn\", \"Lucas\", \"Lucy\", \"Lucy\", \"Lydia\", \"Meryton\", \"Mina\", \"Mina\", \"Miss\", \"Miss\", \"Miss\", \"Miss\", \"Miss Bingley\", \"Miss_Bennet\", \"Miss_Bingley\", \"Miss_Lucas\", \"Mont\", \"Mrs\", \"Mrs\", \"Mrs\", \"Mrs\", \"Mrs_Bennet\", \"Murray\", \"Nantucket\", \"Netherfield\", \"Peleg\", \"Pequod\", \"Professor\", \"Queequeg\", \"Queequeg\", \"Queequeg\", \"Renfield\", \"Rosings\", \"Safie\", \"Safie\", \"September\", \"September\", \"Seward\", \"Sir_William\", \"Sir_William\", \"Starbuck\", \"Stubb\", \"Switzerland\", \"Van\", \"Van\", \"Van Helsing\", \"Van_Helsing\", \"Victor\", \"Victor\", \"Westenra\", \"Whale\", \"Whitby\", \"Wickham\", \"abhor\", \"accent\", \"anguish\", \"anguish\", \"appear\", \"appear\", \"appear\", \"appear\", \"ardour\", \"ask\", \"ask\", \"ask\", \"ask\", \"asleep\", \"asleep\", \"aunt\", \"aunt\", \"aunt\", \"aunt\", \"bed\", \"bed\", \"bed\", \"bed\", \"behaviour\", \"believe\", \"believe\", \"believe\", \"believe\", \"board\", \"board\", \"board\", \"cabin\", \"cabin\", \"captain\", \"captain\", \"captain\", \"cat\", \"child\", \"child\", \"child\", \"child\", \"close\", \"close\", \"close\", \"close\", \"contemplate\", \"cottage\", \"cottage\", \"cottage\", \"cottager\", \"cottager\", \"country\", \"country\", \"country\", \"country\", \"courtyard\", \"cousin\", \"cousin\", \"creator\", \"creature\", \"creature\", \"creature\", \"creature\", \"crime\", \"crime\", \"crucifix\", \"daemon\", \"dance\", \"dance\", \"dance\", \"dance\", \"daughter\", \"daughter\", \"daughter\", \"daughter\", \"dear\", \"dear\", \"dear\", \"dear\", \"death\", \"death\", \"death\", \"death\", \"deck\", \"deck\", \"deck\", \"desire\", \"desire\", \"desire\", \"desire\", \"despair\", \"despair\", \"despair\", \"destroy\", \"destroy\", \"destroy\", \"destroy\", \"diary\", \"discover\", \"discover\", \"discover\", \"discover\", \"divine\", \"don\", \"don\", \"door\", \"door\", \"door\", \"door\", \"driver\", \"driver\", \"endeavour\", \"endeavour\", \"endeavour\", \"endure\", \"endure\", \"endure\", \"endure\", \"enter\", \"enter\", \"enter\", \"enter\", \"face\", \"face\", \"face\", \"face\", \"fall\", \"fall\", \"fall\", \"fall\", \"family\", \"family\", \"family\", \"family\", \"father\", \"father\", \"father\", \"father\", \"fear\", \"fear\", \"fear\", \"fear\", \"feeling\", \"feeling\", \"feeling\", \"feeling\", \"fiend\", \"fiend\", \"fiend\", \"fish\", \"fish\", \"fish\", \"fish\", \"forever\", \"forever\", \"fulfil\", \"gentle\", \"gentle\", \"gentle\", \"girl\", \"girl\", \"girl\", \"girl\", \"grief\", \"grief\", \"grief\", \"grow\", \"grow\", \"grow\", \"grow\", \"harbour\", \"harpooneer\", \"harpooneer\", \"hatred\", \"head\", \"head\", \"head\", \"head\", \"heart\", \"heart\", \"heart\", \"heart\", \"hold\", \"hold\", \"hold\", \"hold\", \"hope\", \"hope\", \"hope\", \"hope\", \"horn\", \"horror\", \"horror\", \"horror\", \"horror\", \"house\", \"house\", \"house\", \"house\", \"hovel\", \"human\", \"human\", \"human\", \"human\", \"inhabit\", \"key\", \"key\", \"lady\", \"lady\", \"lady\", \"lady\", \"lake\", \"lake\", \"lake\", \"later\", \"leg\", \"leg\", \"letter\", \"letter\", \"letter\", \"letter\", \"lie\", \"lie\", \"lie\", \"lie\", \"life\", \"life\", \"life\", \"life\", \"light\", \"light\", \"light\", \"light\", \"lock\", \"lock\", \"lock\", \"love\", \"love\", \"love\", \"love\", \"manner\", \"manner\", \"manner\", \"manner\", \"mast\", \"mast_head\", \"mate\", \"mate\", \"mate\", \"mean\", \"mean\", \"mean\", \"mean\", \"mind\", \"mind\", \"mind\", \"mind\", \"miserable\", \"miserable\", \"miserable\", \"miserable\", \"misery\", \"misery\", \"misery\", \"misery\", \"month\", \"month\", \"month\", \"month\", \"morning\", \"morning\", \"morning\", \"morning\", \"mother\", \"mother\", \"mother\", \"mother\", \"mountain\", \"mountain\", \"mountain\", \"mountain\", \"murder\", \"murder\", \"murder\", \"murder\", \"murderer\", \"murderer\", \"murderer\", \"murderer\", \"nature\", \"nature\", \"nature\", \"nature\", \"oil\", \"old\", \"old\", \"old\", \"old\", \"open\", \"open\", \"open\", \"open\", \"pass\", \"pass\", \"pass\", \"pass\", \"patient\", \"patient\", \"patient\", \"pier\", \"pilot\", \"pipe\", \"pipe\", \"protector\", \"reflect\", \"reflect\", \"remain\", \"remain\", \"remain\", \"remain\", \"reply\", \"reply\", \"reply\", \"reply\", \"return\", \"return\", \"return\", \"return\", \"room\", \"room\", \"room\", \"room\", \"round\", \"round\", \"round\", \"round\", \"run\", \"run\", \"run\", \"run\", \"sail\", \"sail\", \"sail\", \"sailor\", \"sailor\", \"sailor\", \"scene\", \"scene\", \"scene\", \"scene\", \"sea\", \"sea\", \"sea\", \"sea\", \"sensation\", \"sensation\", \"sensation\", \"ship\", \"ship\", \"ship\", \"shipmate\", \"shipmate\", \"sister\", \"sister\", \"sister\", \"sister\", \"sit\", \"sit\", \"sit\", \"sit\", \"sleep\", \"sleep\", \"sleep\", \"sleep\", \"small\", \"small\", \"small\", \"small\", \"sort\", \"sort\", \"sort\", \"sort\", \"sperm\", \"sperm_whale\", \"spirit\", \"spirit\", \"spirit\", \"spirit\", \"stand\", \"stand\", \"stand\", \"stand\", \"strange\", \"strange\", \"strange\", \"strange\", \"tale\", \"tale\", \"tale\", \"tear\", \"tear\", \"tear\", \"tear\", \"thirst\", \"thou\", \"thou\", \"threat\", \"till\", \"till\", \"till\", \"till\", \"try\", \"try\", \"try\", \"try\", \"unfortunate\", \"victim\", \"victim\", \"voyage\", \"voyage\", \"voyage\", \"wake\", \"wake\", \"wake\", \"wall\", \"wall\", \"wall\", \"want\", \"want\", \"want\", \"want\", \"water\", \"water\", \"water\", \"weep\", \"weep\", \"weep\", \"weep\", \"whale\", \"whale\", \"whale\", \"whale\", \"whale_ship\", \"whaleman\", \"whaleman\", \"whaling\", \"whilst\", \"whilst\", \"whilst\", \"window\", \"window\", \"window\", \"window\", \"wish\", \"wish\", \"wish\", \"wish\", \"wolf\", \"wolf\", \"word\", \"word\", \"word\", \"word\", \"world\", \"world\", \"world\", \"world\", \"wretch\", \"write\", \"write\", \"write\", \"write\", \"young\", \"young\", \"young\", \"young\"]}, \"R\": 30, \"lambda.step\": 0.01, \"plot.opts\": {\"xlab\": \"PC1\", \"ylab\": \"PC2\"}, \"topic.order\": [2, 4, 3, 1]};\n",
       "\n",
       "function LDAvis_load_lib(url, callback){\n",
       "  var s = document.createElement('script');\n",
       "  s.src = url;\n",
       "  s.async = true;\n",
       "  s.onreadystatechange = s.onload = callback;\n",
       "  s.onerror = function(){console.warn(\"failed to load library \" + url);};\n",
       "  document.getElementsByTagName(\"head\")[0].appendChild(s);\n",
       "}\n",
       "\n",
       "if(typeof(LDAvis) !== \"undefined\"){\n",
       "   // already loaded: just create the visualization\n",
       "   !function(LDAvis){\n",
       "       new LDAvis(\"#\" + \"ldavis_el5754158733757606394267984\", ldavis_el5754158733757606394267984_data);\n",
       "   }(LDAvis);\n",
       "}else if(typeof define === \"function\" && define.amd){\n",
       "   // require.js is available: use it to load d3/LDAvis\n",
       "   require.config({paths: {d3: \"https://d3js.org/d3.v5\"}});\n",
       "   require([\"d3\"], function(d3){\n",
       "      window.d3 = d3;\n",
       "      LDAvis_load_lib(\"https://cdn.jsdelivr.net/gh/bmabey/pyLDAvis@3.4.0/pyLDAvis/js/ldavis.v3.0.0.js\", function(){\n",
       "        new LDAvis(\"#\" + \"ldavis_el5754158733757606394267984\", ldavis_el5754158733757606394267984_data);\n",
       "      });\n",
       "    });\n",
       "}else{\n",
       "    // require.js not available: dynamically load d3 & LDAvis\n",
       "    LDAvis_load_lib(\"https://d3js.org/d3.v5.js\", function(){\n",
       "         LDAvis_load_lib(\"https://cdn.jsdelivr.net/gh/bmabey/pyLDAvis@3.4.0/pyLDAvis/js/ldavis.v3.0.0.js\", function(){\n",
       "                 new LDAvis(\"#\" + \"ldavis_el5754158733757606394267984\", ldavis_el5754158733757606394267984_data);\n",
       "            })\n",
       "         });\n",
       "}\n",
       "</script>"
      ],
      "text/plain": [
       "<IPython.core.display.HTML object>"
      ]
     },
     "execution_count": 58,
     "metadata": {},
     "output_type": "execute_result"
    }
   ],
   "source": [
    "# plot topics\n",
    "data =  pyLDAvis.gensim_models.prepare(model, corpus, dictionary)\n",
    "pyLDAvis.display(data)"
   ]
  },
  {
   "cell_type": "code",
   "execution_count": 59,
   "metadata": {},
   "outputs": [],
   "source": [
    "# assignment\n",
    "sent_to_cluster = list()\n",
    "for n,doc in enumerate(corpus):\n",
    "    if doc:\n",
    "        cluster = max(model[doc],key=lambda x:x[1])\n",
    "        sent_to_cluster.append(cluster[0])"
   ]
  },
  {
   "cell_type": "code",
   "execution_count": 60,
   "metadata": {},
   "outputs": [
    {
     "name": "stdout",
     "output_type": "stream",
     "text": [
      "DRACULA.txt : 0 - 60\n",
      "Accuracy: 1.0\n",
      "------\n",
      "Frankenstein.txt : 3 - 60\n",
      "Accuracy: 1.0\n",
      "------\n",
      "Moby_Dick.txt : 2 - 56\n",
      "Accuracy: 0.9333333333333333\n",
      "------\n",
      "PRIDE_AND_PREJUDICE.txt : 1 - 60\n",
      "Accuracy: 1.0\n",
      "------\n"
     ]
    }
   ],
   "source": [
    "# accuracy\n",
    "from collections import Counter\n",
    "for book, cluster in book_id.items():\n",
    "    assignments = list()\n",
    "    for real,given in zip(chunk_class,sent_to_cluster):\n",
    "        if real == cluster:\n",
    "            assignments.append(given)\n",
    "    most_common,num_most_common = Counter(assignments).most_common(1)[0] # 4, 6 times\n",
    "    print(book,\":\",most_common,\"-\",num_most_common)\n",
    "    print(\"Accuracy:\",num_most_common/limit)\n",
    "    print(\"------\")"
   ]
  },
  {
   "cell_type": "markdown",
   "metadata": {},
   "source": [
    "# Task 4: Semantic analysis based on lexical categories"
   ]
  },
  {
   "cell_type": "code",
   "execution_count": 61,
   "metadata": {},
   "outputs": [],
   "source": [
    "from empath import Empath\n",
    "lexicon = Empath()"
   ]
  },
  {
   "cell_type": "markdown",
   "metadata": {},
   "source": [
    "### Let's see what pre-build categories we can study! More information: https://hci.stanford.edu/publications/2016/ethan/empath-chi-2016.pdf"
   ]
  },
  {
   "cell_type": "code",
   "execution_count": 62,
   "metadata": {},
   "outputs": [
    {
     "name": "stdout",
     "output_type": "stream",
     "text": [
      "help\n",
      "office\n",
      "dance\n",
      "money\n",
      "wedding\n",
      "domestic_work\n",
      "sleep\n",
      "medical_emergency\n",
      "cold\n",
      "hate\n",
      "cheerfulness\n",
      "aggression\n",
      "occupation\n",
      "envy\n",
      "anticipation\n"
     ]
    }
   ],
   "source": [
    "for cat in list(lexicon.cats.keys())[:15]:\n",
    "    print(cat)"
   ]
  },
  {
   "cell_type": "markdown",
   "metadata": {},
   "source": [
    "### For each category, we can examine representative terms"
   ]
  },
  {
   "cell_type": "code",
   "execution_count": 63,
   "metadata": {},
   "outputs": [
    {
     "data": {
      "text/plain": [
       "['unwell',\n",
       " 'institution',\n",
       " 'dehydrated',\n",
       " 'illness',\n",
       " 'liver',\n",
       " 'vomiting',\n",
       " 'medically',\n",
       " 'aspirin',\n",
       " 'pancreatic',\n",
       " 'antidepressant',\n",
       " 'vet',\n",
       " 'pills',\n",
       " 'seizure',\n",
       " 'psychologist',\n",
       " 'dental']"
      ]
     },
     "execution_count": 63,
     "metadata": {},
     "output_type": "execute_result"
    }
   ],
   "source": [
    "lexicon.cats[\"health\"][:15]"
   ]
  },
  {
   "cell_type": "markdown",
   "metadata": {},
   "source": [
    "### Studying Pride and Prejudice"
   ]
  },
  {
   "cell_type": "code",
   "execution_count": 64,
   "metadata": {},
   "outputs": [],
   "source": [
    "nlp = spacy.load('en_core_web_sm')\n",
    "doc = nlp(books[3])"
   ]
  },
  {
   "cell_type": "code",
   "execution_count": 65,
   "metadata": {},
   "outputs": [],
   "source": [
    "empath_features = lexicon.analyze(doc.text,categories = [\"disappointment\", \"pain\", \"joy\", \"beauty\", \"affection\"])"
   ]
  },
  {
   "cell_type": "code",
   "execution_count": 66,
   "metadata": {},
   "outputs": [
    {
     "data": {
      "text/plain": [
       "{'disappointment': 149.0,\n",
       " 'pain': 228.0,\n",
       " 'joy': 278.0,\n",
       " 'beauty': 136.0,\n",
       " 'affection': 439.0}"
      ]
     },
     "execution_count": 66,
     "metadata": {},
     "output_type": "execute_result"
    }
   ],
   "source": [
    "empath_features"
   ]
  },
  {
   "cell_type": "code",
   "execution_count": 67,
   "metadata": {},
   "outputs": [],
   "source": [
    "empath_features = lexicon.analyze(doc.text,categories = [\"disappointment\", \"pain\", \"joy\", \"beauty\", \"affection\"], normalize = True)"
   ]
  },
  {
   "cell_type": "code",
   "execution_count": 68,
   "metadata": {},
   "outputs": [
    {
     "data": {
      "text/plain": [
       "{'disappointment': 0.0012256615693403638,\n",
       " 'pain': 0.001875508978587939,\n",
       " 'joy': 0.002286804807225645,\n",
       " 'beauty': 0.0011187246538945602,\n",
       " 'affection': 0.0036111773754390585}"
      ]
     },
     "execution_count": 68,
     "metadata": {},
     "output_type": "execute_result"
    }
   ],
   "source": [
    "empath_features"
   ]
  },
  {
   "cell_type": "markdown",
   "metadata": {},
   "source": [
    "### Usecase: the evolution of topics"
   ]
  },
  {
   "cell_type": "code",
   "execution_count": 69,
   "metadata": {},
   "outputs": [],
   "source": [
    "bins = range(0,len(doc.text),150000)"
   ]
  },
  {
   "cell_type": "code",
   "execution_count": 70,
   "metadata": {},
   "outputs": [],
   "source": [
    "love = []\n",
    "pain = []\n",
    "beauty = []\n",
    "affection = []\n",
    "\n",
    "\n",
    "for cnt,i in enumerate(bins[:-1]):\n",
    "    empath_features = lexicon.analyze(doc.text[bins[cnt]:bins[cnt+1]],\n",
    "                                      categories = [\"love\", \"pain\", \"joy\", \"beauty\", \"affection\"], normalize = True)\n",
    "    love.append(empath_features[\"love\"])\n",
    "    pain.append(empath_features[\"pain\"])\n",
    "    beauty.append(empath_features[\"beauty\"])\n",
    "    affection.append(empath_features[\"affection\"])"
   ]
  },
  {
   "cell_type": "code",
   "execution_count": 71,
   "metadata": {},
   "outputs": [
    {
     "data": {
      "text/plain": [
       "<matplotlib.legend.Legend at 0x15acdff50>"
      ]
     },
     "execution_count": 71,
     "metadata": {},
     "output_type": "execute_result"
    },
    {
     "data": {
      "image/png": "[encoded data removed]",
      "text/plain": [
       "<Figure size 640x480 with 1 Axes>"
      ]
     },
     "metadata": {},
     "output_type": "display_data"
    }
   ],
   "source": [
    "plt.plot(love,label = \"love\")\n",
    "plt.plot(beauty, label = \"beauty\")\n",
    "plt.plot(affection, label = \"affection\")\n",
    "plt.plot(pain,label = \"pain\")\n",
    "\n",
    "plt.xlabel(\"progression in the book\")\n",
    "plt.ylabel(\"frequency of a category\")\n",
    "plt.legend()"
   ]
  },
  {
   "cell_type": "code",
   "execution_count": 72,
   "metadata": {},
   "outputs": [],
   "source": [
    "# We can observe how as the story progresses, beauty and affection categories decrease, while love and pain intensify!"
   ]
  },
  {
   "cell_type": "markdown",
   "metadata": {},
   "source": [
    "### We can create custom categories based on seed terms!\n",
    "### Models trained on: fiction, nytimes or reddit"
   ]
  },
  {
   "cell_type": "code",
   "execution_count": 73,
   "metadata": {},
   "outputs": [
    {
     "name": "stdout",
     "output_type": "stream",
     "text": [
      "[\"avocado\", \"kale\", \"Swiss_chard\", \"escarole\", \"black_beans\", \"cucumber\", \"dill\", \"leek\", \"mango\", \"red_peppers\", \"chicory\", \"chanterelles\", \"chutney\", \"tamarind\", \"papaya\", \"black_olives\", \"endive\", \"pesto\", \"walnuts\", \"green_beans\", \"bok_choy\", \"portobello_mushrooms\", \"lemon_grass\", \"radicchio\", \"ricotta\", \"chicken_breast\", \"porcini\", \"blue_cheese\", \"snow_peas\", \"pickled\", \"Gorgonzola\", \"chorizo\", \"yams\", \"hazelnuts\", \"fresh_tomatoes\", \"shiitake_mushrooms\", \"anchovies\", \"wild_rice\", \"scallion\", \"red_onions\", \"broccoli_rape\", \"red_cabbage\", \"wasabi\", \"sweet_potato\", \"feta\", \"roasted_garlic\", \"compote\", \"napoleon\", \"aioli\", \"crab_meat\", \"cauliflower\", \"jicama\", \"parsnips\", \"apricots\", \"new_potatoes\", \"truffle_oil\", \"lemongrass\", \"pistachios\", \"saut\\u00e9ed\", \"gnocchi\", \"duck_confit\", \"fresh_herbs\", \"ratatouille\", \"white_beans\", \"croutons\", \"fresh_mozzarella\", \"squab\", \"watercress\", \"roasted_red_peppers\", \"pine_nuts\", \"fritters\", \"butternut_squash\", \"fava_beans\", \"drizzled\", \"red_onion\", \"pea_shoots\", \"rosemary\", \"romaine\", \"mustard_greens\", \"horseradish\", \"caramelized_onions\", \"artichoke_hearts\", \"fettuccine\", \"grilled_eggplant\", \"julienne\", \"plum_tomatoes\", \"grilled_chicken\", \"pineapple\", \"candied\", \"pancetta\", \"celery_root\", \"sea_scallops\", \"shiitake\", \"porcini_mushrooms\", \"sour_cream\", \"bean_sprouts\", \"oyster_mushrooms\", \"monkfish\", \"chickpeas\", \"coconut_milk\"]\n"
     ]
    }
   ],
   "source": [
    "lexicon.create_category(\"healthy_food\", [\"healthy_food\",\"low_carb\",\"kale\",\"avocado\"], model=\"nytimes\")"
   ]
  },
  {
   "cell_type": "code",
   "execution_count": 74,
   "metadata": {},
   "outputs": [
    {
     "name": "stdout",
     "output_type": "stream",
     "text": [
      "[\"green_vegetables\", \"leafy_greens\", \"whole_grain_bread\", \"brown_rice\", \"white_rice\", \"green_veggies\", \"veggies\", \"whole_wheat_bread\", \"sweet_potatoes\", \"raw_veggies\", \"lean_meat\", \"spinach\", \"fatty_meat\", \"kale\", \"sweet_potato\", \"avocado\", \"hummus\", \"chicken_breast\", \"veggie\", \"whole_grain\", \"vegetables\", \"whole_wheat_pasta\", \"salads\", \"broccoli\", \"greek_yogurt\", \"Greek_yogurt\", \"yogurt\", \"avocados\", \"rice_cakes\", \"raw_vegetables\", \"almonds\", \"lean_protein\", \"grilled_chicken\", \"quinoa\", \"steamed_broccoli\", \"whole_grain_pasta\", \"brocolli\", \"kale\", \"avocado\", \"tofu\", \"Veggies\", \"edamame\", \"more_veggies\", \"lean_meats\", \"quinoa\", \"salad\", \"cottage_cheese\", \"whole_wheat\", \"wheat_bread\", \"romaine_lettuce\", \"white_bread\", \"raw_spinach\", \"oatmeal\", \"white_potatoes\", \"almond_butter\", \"pork_rinds\", \"veg\", \"cashews\", \"greek_yoghurt\", \"baby_carrots\", \"fresh_veggies\", \"fatty_meats\", \"more_vegetables\", \"avacado\", \"veges\", \"nut_butter\", \"hard_boiled_eggs\", \"carrot_sticks\", \"whole_grains\", \"grilled_chicken_breast\", \"steamed_vegetables\", \"meats\", \"lentils\", \"green_beans\", \"low_cal\", \"nuts/seeds\", \"iceberg_lettuce\", \"carrots\", \"red_meat\", \"other_foods\", \"fried_foods\", \"smoothies\", \"healthy_fats\", \"vegies\", \"avacados\", \"other_vegetables\", \"fresh_fruit\", \"spinach_salad\", \"egg_whites\", \"steamed_veggies\", \"nut_butters\", \"ground_turkey\", \"baked_chicken\"]\n"
     ]
    }
   ],
   "source": [
    "lexicon.create_category(\"healthy_food\", [\"healthy_food\",\"low_carb\",\"kale\",\"avocado\"], model=\"reddit\")"
   ]
  },
  {
   "cell_type": "code",
   "execution_count": 75,
   "metadata": {},
   "outputs": [
    {
     "name": "stdout",
     "output_type": "stream",
     "text": [
      "[\"turkey\", \"roast_beef\", \"white_bread\", \"fried_chicken\", \"pancakes\", \"peanut_butter\", \"gefilte_fish\", \"stuffing\", \"French_fries\", \"meatloaf\", \"brisket\", \"potato_salad\", \"pumpkin_pie\", \"scrambled_eggs\", \"french_fries\", \"spaghetti\", \"gravy\", \"tamales\", \"pot_roast\", \"oatmeal\", \"lasagna\", \"corned_beef\", \"latkes\", \"pickles\", \"sauerkraut\", \"burger\", \"grits\", \"biscuits\", \"hamburger\", \"salad_bar\", \"corn_bread\", \"chicken_soup\", \"bacon\", \"cream_cheese\", \"brownies\", \"tofu\", \"pastrami\", \"pork_chops\", \"salami\", \"marshmallows\", \"collard_greens\", \"macaroni\", \"pies\", \"raw_fish\", \"eggnog\", \"cheeseburgers\", \"truffles\", \"chocolate_cake\", \"hard-boiled_eggs\", \"baked_potatoes\", \"venison\", \"cottage_cheese\", \"pheasant\", \"applesauce\", \"quail\", \"fruit_salad\", \"meatballs\", \"chocolate_chip_cookies\", \"tacos\", \"roast\", \"jelly\", \"chicken_salad\", \"omelet\", \"gumbo\", \"steaks\", \"soup\", \"lox\", \"sausage\", \"roast_chicken\", \"rye\", \"bagel\", \"fruitcake\", \"fries\", \"fried_eggs\", \"ketchup\", \"chicken_wings\", \"barbecue_sauce\", \"sweet_potatoes\", \"pasta\", \"sausages\", \"crackers\", \"omelets\", \"roasting\", \"French_toast\", \"muffins\", \"mashed_potatoes\", \"fresh_fruit\", \"baked_potato\", \"waffles\", \"cranberry_sauce\", \"baked_beans\", \"cheese\", \"tripe\", \"noodles\", \"maple_syrup\", \"quiche\", \"buns\", \"baklava\", \"stews\"]\n"
     ]
    }
   ],
   "source": [
    "lexicon.create_category(\"festive_food\", [\"festive_food\",\"turkey\",\"eggnog\"], model=\"nytimes\")"
   ]
  },
  {
   "cell_type": "markdown",
   "metadata": {},
   "source": [
    "### List of further resources\n",
    "    * NLTK\n",
    "    * Jellyfish: string similarity library\n",
    "    * TextBlob: simplified text processing\n",
    "    * PyEnchant: language detection\n",
    "    * WordNet: ontology of concepts (inc. in NLTK)\n",
    "    * Stanford NLP (Java)\n",
    "    * Tweet NLP: https://www.cs.cmu.edu/~ark/TweetNLP/"
   ]
  },
  {
   "cell_type": "markdown",
   "metadata": {},
   "source": [
    "## Part 2"
   ]
  },
  {
   "cell_type": "markdown",
   "metadata": {},
   "source": [
    "### Question 1:\n",
    "An NLP preprocessing model, using the list of stopwords ['a', 'the', 'is', 'you', 'I','my','with','was'] for the input sentence\n",
    "“I was driving down the street with my CAR! :)” <br>\n",
    "gives the following output: {driving, down, street, car, :)}.\n",
    "The model consists of: <br>\n",
    "\n",
    "a) Stopword Removal, Casefolding and Stemming <br>\n",
    "b) Stopword Removal and Casefolding <br>\n",
    "c) Stopword Removal and Stemming <br>\n",
    "d) Casefolding and Stemming <br>"
   ]
  },
  {
   "cell_type": "markdown",
   "metadata": {},
   "source": [
    "Answer: b"
   ]
  },
  {
   "cell_type": "markdown",
   "metadata": {},
   "source": [
    "### Question 2:\n",
    "What statement is false about topic detection using LSA: <br>\n",
    "\n",
    "a) It finds the representation of documents and words in the latent \"topic space\" <br>\n",
    "b) It produces topics interpretable in “word space” <br>\n",
    "c) A document's topic representation is a probability distribution over topics <br>\n",
    "d) The vectors representing topics in “word space” are linearly independent <br>"
   ]
  },
  {
   "cell_type": "markdown",
   "metadata": {},
   "source": [
    "Answer: c"
   ]
  },
  {
   "cell_type": "markdown",
   "metadata": {},
   "source": [
    "### Question 3:\n",
    "The problem of having more features than documents when using a TF-IDF matrix for document classification cannot be addressed by: <br>\n",
    "\n",
    "a) Using SVD for dimensionality reduction <br>\n",
    "b) Using min-max scaling of features <br>\n",
    "c) Penalizing very large positive and very large negative weights (a.k.a. regularization) <br>\n",
    "d) Using online feature selection <br>"
   ]
  },
  {
   "cell_type": "markdown",
   "metadata": {},
   "source": [
    "Answer: b"
   ]
  },
  {
   "cell_type": "markdown",
   "metadata": {},
   "source": [
    "### Question 4:\n",
    "Which of the following is false about word vectors: <br>\n",
    "\n",
    "a) Word2vec is used to achieve a lower dimensional representation than bag of words <br>\n",
    "b) Semantically similar words typically have similar word2vec vectors <br>\n",
    "c) Each dimension in the word2vec embedding has a clear interpretation <br>\n",
    "d) Word2Vec can be used for the computation of sentence vectors <br>"
   ]
  },
  {
   "cell_type": "markdown",
   "metadata": {},
   "source": [
    "Answer: c"
   ]
  },
  {
   "cell_type": "markdown",
   "metadata": {},
   "source": [
    "### Question 5:\n",
    "Given the following word (W) / context (C) co-occurrence frequencies, which statement is true regarding the pointwise mutual information (PMI)?\n",
    "\n",
    "|  |W1|W2|W3|\n",
    "|--|--|--|--|\n",
    "|C1| 2| 0| 3|\n",
    "|C2| 6| 4| 0|\n",
    "|C3| 1| 1| 3|\n",
    "\n",
    "a) PMI(w=W1, c=C2) > PMI(w=W2, c=C2) > PMI(w=W3, c=C3) <br>\n",
    "b) PMI(w=W2, c=C2) > PMI(w=W1, c=C2) >  PMI(w=W3, c=C3) <br>\n",
    "c) PMI(w=W3, c=C3) > PMI(w=W1, c=C2) > PMI(w=W2, c=C2) <br>\n",
    "d) PMI(w=W3, c=C3) > PMI(w=W2, c=C2) > PMI(w=W1, c=C2) <br>"
   ]
  },
  {
   "cell_type": "markdown",
   "metadata": {},
   "source": [
    "Answer: d\n",
    "\n",
    "\n",
    "PMI(w, c) = \\log \\frac{P(w, c)}{P(w) \\cdot P(c)}"
   ]
  }
 ],
 "metadata": {
  "kernelspec": {
   "display_name": "ada2",
   "language": "python",
   "name": "python3"
  },
  "language_info": {
   "codemirror_mode": {
    "name": "ipython",
    "version": 3
   },
   "file_extension": ".py",
   "mimetype": "text/x-python",
   "name": "python",
   "nbconvert_exporter": "python",
   "pygments_lexer": "ipython3",
   "version": "3.11.8"
  },
  "toc": {
   "colors": {
    "hover_highlight": "#DAA520",
    "navigate_num": "#000000",
    "navigate_text": "#333333",
    "running_highlight": "#FF0000",
    "selected_highlight": "#FFD700",
    "sidebar_border": "#EEEEEE",
    "wrapper_background": "#FFFFFF"
   },
   "moveMenuLeft": true,
   "nav_menu": {
    "height": "228px",
    "width": "252px"
   },
   "navigate_menu": true,
   "number_sections": true,
   "sideBar": true,
   "threshold": 4,
   "toc_cell": false,
   "toc_section_display": "block",
   "toc_window_display": false,
   "widenNotebook": false
  },
  "varInspector": {
   "cols": {
    "lenName": 16,
    "lenType": 16,
    "lenVar": 40
   },
   "kernels_config": {
    "python": {
     "delete_cmd_postfix": "",
     "delete_cmd_prefix": "del ",
     "library": "var_list.py",
     "varRefreshCmd": "print(var_dic_list())"
    },
    "r": {
     "delete_cmd_postfix": ") ",
     "delete_cmd_prefix": "rm(",
     "library": "var_list.r",
     "varRefreshCmd": "cat(var_dic_list()) "
    }
   },
   "types_to_exclude": [
    "module",
    "function",
    "builtin_function_or_method",
    "instance",
    "_Feature"
   ],
   "window_display": false
  }
 },
 "nbformat": 4,
 "nbformat_minor": 4
}
